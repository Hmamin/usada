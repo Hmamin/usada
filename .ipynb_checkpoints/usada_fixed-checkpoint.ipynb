{
 "cells": [
  {
   "cell_type": "code",
   "execution_count": 126,
   "metadata": {
    "collapsed": true
   },
   "outputs": [],
   "source": [
    "from pprint import pprint\n",
    "import pandas as pd\n",
    "import numpy as np\n",
    "import matplotlib.pyplot as plt\n",
    "import seaborn as sns\n",
    "import requests\n",
    "from bs4 import BeautifulSoup as bs\n",
    "import xml.etree.ElementTree as ET\n",
    "%matplotlib inline"
   ]
  },
  {
   "cell_type": "code",
   "execution_count": 22,
   "metadata": {
    "collapsed": true
   },
   "outputs": [],
   "source": [
    "url_root = 'https://www.usada.org/uploads/web_hist_files/xml/'\n",
    "years = list(range(2015,2019))\n",
    "\n",
    "urls = [url_root + str(yr) + 'all.xml' for yr in years]\n",
    "yr_bytes = [requests.get(u).content for u in urls]\n",
    "# bytes_2018 = requests.get(url_2018).content\n",
    "# xml_2018 = bytes_2018.decode('utf16')"
   ]
  },
  {
   "cell_type": "code",
   "execution_count": 29,
   "metadata": {
    "collapsed": false
   },
   "outputs": [
    {
     "name": "stdout",
     "output_type": "stream",
     "text": [
      "['https://www.usada.org/uploads/web_hist_files/xml/2015all.xml', 'https://www.usada.org/uploads/web_hist_files/xml/2016all.xml', 'https://www.usada.org/uploads/web_hist_files/xml/2017all.xml', 'https://www.usada.org/uploads/web_hist_files/xml/2018all.xml']\n"
     ]
    }
   ],
   "source": [
    "print(urls)"
   ]
  },
  {
   "cell_type": "code",
   "execution_count": 28,
   "metadata": {
    "collapsed": false
   },
   "outputs": [
    {
     "name": "stdout",
     "output_type": "stream",
     "text": [
      "b'<TestHistory><TREC><YR>2015</YR><QTR>All</QTR><AName>Madeline Aaron</AName><NumTests>2</NumTests><Sport>Figure Skating</Sport><AFN>Madeline</AFN><ALN>Aaron</ALN></TREC><TREC><YR>2015</YR><QTR>All</QTR'\n",
      "\n",
      "\n",
      "\n",
      "b'\\xff\\xfe<\\x00T\\x00e\\x00s\\x00t\\x00H\\x00i\\x00s\\x00t\\x00o\\x00r\\x00y\\x00>\\x00<\\x00T\\x00R\\x00E\\x00C\\x00>\\x00<\\x00Y\\x00R\\x00>\\x002\\x000\\x001\\x006\\x00<\\x00/\\x00Y\\x00R\\x00>\\x00<\\x00Q\\x00T\\x00R\\x00>\\x00A\\x00l\\x00l\\x00<\\x00/\\x00Q\\x00T\\x00R\\x00>\\x00<\\x00A\\x00N\\x00a\\x00m\\x00e\\x00>\\x00J\\x00e\\x00s\\x00s\\x00i\\x00c\\x00a\\x00 \\x00(\\x00P\\x00i\\x00x\\x00l\\x00e\\x00r\\x00)\\x00 \\x00T\\x00e\\x00b\\x00o\\x00<\\x00/\\x00A\\x00N\\x00a\\x00m\\x00e\\x00>\\x00<\\x00N\\x00u\\x00m\\x00T\\x00e\\x00s\\x00t\\x00s\\x00>\\x001\\x00<\\x00/\\x00N\\x00u\\x00m\\x00T\\x00'\n",
      "\n",
      "\n",
      "\n",
      "b'\\xff\\xfe<\\x00T\\x00e\\x00s\\x00t\\x00H\\x00i\\x00s\\x00t\\x00o\\x00r\\x00y\\x00>\\x00<\\x00T\\x00R\\x00E\\x00C\\x00>\\x00<\\x00Y\\x00R\\x00>\\x002\\x000\\x001\\x007\\x00<\\x00/\\x00Y\\x00R\\x00>\\x00<\\x00Q\\x00T\\x00R\\x00>\\x00A\\x00l\\x00l\\x00<\\x00/\\x00Q\\x00T\\x00R\\x00>\\x00<\\x00A\\x00N\\x00a\\x00m\\x00e\\x00>\\x00M\\x00a\\x00x\\x00 \\x00A\\x00a\\x00r\\x00o\\x00n\\x00<\\x00/\\x00A\\x00N\\x00a\\x00m\\x00e\\x00>\\x00<\\x00N\\x00u\\x00m\\x00T\\x00e\\x00s\\x00t\\x00s\\x00>\\x003\\x00<\\x00/\\x00N\\x00u\\x00m\\x00T\\x00e\\x00s\\x00t\\x00s\\x00>\\x00<\\x00S\\x00p\\x00o\\x00r\\x00t\\x00>\\x00'\n",
      "\n",
      "\n",
      "\n",
      "b'\\xff\\xfe<\\x00T\\x00e\\x00s\\x00t\\x00H\\x00i\\x00s\\x00t\\x00o\\x00r\\x00y\\x00>\\x00<\\x00T\\x00R\\x00E\\x00C\\x00>\\x00<\\x00Y\\x00R\\x00>\\x002\\x000\\x001\\x008\\x00<\\x00/\\x00Y\\x00R\\x00>\\x00<\\x00Q\\x00T\\x00R\\x00>\\x00A\\x00l\\x00l\\x00<\\x00/\\x00Q\\x00T\\x00R\\x00>\\x00<\\x00A\\x00N\\x00a\\x00m\\x00e\\x00>\\x00K\\x00a\\x00i\\x00t\\x00l\\x00i\\x00n\\x00 \\x00(\\x00A\\x00n\\x00t\\x00o\\x00n\\x00n\\x00e\\x00a\\x00u\\x00)\\x00 \\x00K\\x00e\\x00o\\x00u\\x00g\\x00h\\x00<\\x00/\\x00A\\x00N\\x00a\\x00m\\x00e\\x00>\\x00<\\x00N\\x00u\\x00m\\x00T\\x00e\\x00s\\x00t\\x00s\\x00>\\x001\\x00<\\x00'\n",
      "\n",
      "\n",
      "\n"
     ]
    }
   ],
   "source": [
    "for y in yr_bytes:\n",
    "    print(y[:200])\n",
    "    print('\\n\\n')"
   ]
  },
  {
   "cell_type": "code",
   "execution_count": 196,
   "metadata": {
    "collapsed": false
   },
   "outputs": [],
   "source": [
    "roots = {}\n",
    "athletes = {}\n",
    "dfs = {}\n",
    "\n",
    "# Create dict of xml root elements for each year. \n",
    "for i, y in enumerate(years):\n",
    "    roots[y] = ET.fromstring(yr_bytes[i])\n",
    "    athletes[y] = []\n",
    "    \n",
    "    # Filter by sport to create list of athlete dicts for each year.\n",
    "    for child in roots[y]:\n",
    "        player_dict = {\n",
    "            'year': child[0].text,\n",
    "            'sport': child[4].text,\n",
    "            'fname': child[5].text,\n",
    "            'lname': child[6].text,\n",
    "            'tests': child[3].text\n",
    "        }\n",
    "        athletes[y].append(player_dict)\n",
    "        \n",
    "    # Create dataframe for each year\n",
    "    dfs[y] = pd.DataFrame(athletes[y])\n",
    "    dfs[y] = dfs[y].astype({'tests': 'int64', 'year': 'int64'})"
   ]
  },
  {
   "cell_type": "code",
   "execution_count": 198,
   "metadata": {
    "collapsed": false
   },
   "outputs": [
    {
     "name": "stdout",
     "output_type": "stream",
     "text": [
      "      fname    lname              sport  tests  year\n",
      "0  Madeline    Aaron     Figure Skating      2  2015\n",
      "1       Max    Aaron     Figure Skating      3  2015\n",
      "2   Stephen     Abas          Wrestling      1  2015\n",
      "3     Mason  Abbiate  Paralympic Soccer      1  2015\n",
      "4    Jeremy   Abbott     Figure Skating      1  2015 \n",
      "\n",
      "      fname          lname              sport  tests  year\n",
      "0   Jessica  (Pixler) Tebo    Track and Field      1  2016\n",
      "1  Madeline          Aaron     Figure Skating      1  2016\n",
      "2       Max          Aaron     Figure Skating      2  2016\n",
      "3     Mason        Abbiate  Paralympic Soccer      1  2016\n",
      "4      Mara         Abbott            Cycling      8  2016 \n",
      "\n",
      "       fname         lname                 sport  tests  year\n",
      "0        Max         Aaron        Figure Skating      3  2017\n",
      "1       Mara        Abbott               Cycling      5  2017\n",
      "2     Taylor        Abbott              Swimming      2  2017\n",
      "3  Abdihakim    Abdirahman       Track and Field     10  2017\n",
      "4     Hakeem  Abdul Saboor  Bobsled and Skeleton      1  2017 \n",
      "\n",
      "       fname               lname               sport  tests  year\n",
      "0    Kaitlin  (Antonneau) Keough             Cycling      1  2018\n",
      "1       Mara              Abbott             Cycling      1  2018\n",
      "2     Taylor              Abbott            Swimming      1  2018\n",
      "3  Abdihakim          Abdirahman     Track and Field      3  2018\n",
      "4     Daichi                 Abe  Mixed Martial Arts      1  2018 \n",
      "\n"
     ]
    }
   ],
   "source": [
    "for y in years:\n",
    "    print(dfs[y].head(), '\\n')"
   ]
  },
  {
   "cell_type": "code",
   "execution_count": 199,
   "metadata": {
    "collapsed": false
   },
   "outputs": [
    {
     "name": "stdout",
     "output_type": "stream",
     "text": [
      "        fname      lname               sport tests  year\n",
      "2564    Ronda     Rousey  Mixed Martial Arts     8  2015\n",
      "29       Jose       Aldo  Mixed Martial Arts     8  2015\n",
      "1990    Conor   McGregor  Mixed Martial Arts     8  2015\n",
      "1282      Dan  Henderson  Mixed Martial Arts     7  2015\n",
      "1371    Holly       Holm  Mixed Martial Arts     7  2015\n",
      "647   Antonio   Da Silva  Mixed Martial Arts     7  2015\n",
      "2536     Yoel     Romero  Mixed Martial Arts     6  2015\n",
      "2509     Luke   Rockhold  Mixed Martial Arts     6  2015\n",
      "774    Rafael  Dos Anjos  Mixed Martial Arts     6  2015\n",
      "184     Vitor    Belfort  Mixed Martial Arts     6  2015 \n",
      "\n",
      "       fname      lname               sport tests  year\n",
      "24     Omari   Akhmedov  Mixed Martial Arts     1  2015\n",
      "2169     Roy     Nelson  Mixed Martial Arts     1  2015\n",
      "2121  Gegard    Mousasi  Mixed Martial Arts     1  2015\n",
      "2083  Takeya   Mizugaki  Mixed Martial Arts     1  2015\n",
      "1967  Tamdan    McCrory  Mixed Martial Arts     1  2015\n",
      "1931   Jorge   Masvidal  Mixed Martial Arts     1  2015\n",
      "1904    Nate  Marquardt  Mixed Martial Arts     1  2015\n",
      "1868   Fabio  Maldonado  Mixed Martial Arts     1  2015\n",
      "1863  Ruslan  Magomedov  Mixed Martial Arts     1  2015\n",
      "1853    Reza     Madadi  Mixed Martial Arts     1  2015 \n",
      "\n",
      "           fname         lname               sport tests  year\n",
      "451         Josh       Burkman  Mixed Martial Arts     9  2016\n",
      "3291    Aljamain      Sterling  Mixed Martial Arts     9  2016\n",
      "427       Travis        Browne  Mixed Martial Arts     9  2016\n",
      "1700  Demetrious       Johnson  Mixed Martial Arts     9  2016\n",
      "1711     Michael       Johnson  Mixed Martial Arts     9  2016\n",
      "2512      Khabib  Nurmagomedov  Mixed Martial Arts     9  2016\n",
      "2945         Ben      Rothwell  Mixed Martial Arts     9  2016\n",
      "2947       Ronda        Rousey  Mixed Martial Arts     9  2016\n",
      "190        Edson       Barboza  Mixed Martial Arts     9  2016\n",
      "2304        Chad        Mendes  Mixed Martial Arts     9  2016 \n",
      "\n",
      "         fname     lname               sport tests  year\n",
      "1918      Ryan   LaFlare  Mixed Martial Arts     1  2016\n",
      "1906    Kiichi  Kunimoto  Mixed Martial Arts     1  2016\n",
      "1923      Noad     Lahat  Mixed Martial Arts     1  2016\n",
      "3387    Thiago   Tavares  Mixed Martial Arts     1  2016\n",
      "1956     Jenel     Lausa  Mixed Martial Arts     1  2016\n",
      "643       Jake   Collier  Mixed Martial Arts     1  2016\n",
      "615      Mitch    Clarke  Mixed Martial Arts     1  2016\n",
      "2026  Hyun Gyu       Lim  Mixed Martial Arts     1  2016\n",
      "3370   Mairbek  Taisumov  Mixed Martial Arts     1  2016\n",
      "2059    Dileno     Lopes  Mixed Martial Arts     1  2016 \n",
      "\n",
      "               fname        lname               sport tests  year\n",
      "115          Raphael     Assuncao  Mixed Martial Arts     9  2017\n",
      "3052  Ronaldo Jacare        Souza  Mixed Martial Arts     9  2017\n",
      "1479             Max     Holloway  Mixed Martial Arts     9  2017\n",
      "1116         Claudia      Gadelha  Mixed Martial Arts     9  2017\n",
      "2404          Volkan     Oezdemir  Mixed Martial Arts     9  2017\n",
      "1430          Felice       Herrig  Mixed Martial Arts     9  2017\n",
      "3070         Georges    St-Pierre  Mixed Martial Arts     9  2017\n",
      "3417           Chris      Weidman  Mixed Martial Arts     9  2017\n",
      "1587          Joanna  Jedrzejczyk  Mixed Martial Arts     9  2017\n",
      "1820         Ricardo        Lamas  Mixed Martial Arts     9  2017 \n",
      "\n",
      "        fname         lname               sport tests  year\n",
      "5      Shamil  Abdurakhimov  Mixed Martial Arts     1  2017\n",
      "1500    Kyoji     Horiguchi  Mixed Martial Arts     1  2017\n",
      "1582     Rony         Jason  Mixed Martial Arts     1  2017\n",
      "1720     Adam       Khaliev  Mixed Martial Arts     1  2017\n",
      "1788   Pascal        Krauss  Mixed Martial Arts     1  2017\n",
      "1843   Lorenz        Larkin  Mixed Martial Arts     1  2017\n",
      "1887   Andrea     Lee Aaron  Mixed Martial Arts     1  2017\n",
      "1899   Amanda         Lemos  Mixed Martial Arts     1  2017\n",
      "1905  Valerie    Letourneau  Mixed Martial Arts     1  2017\n",
      "2001   Rashid     Magomedov  Mixed Martial Arts     1  2017 \n",
      "\n",
      "          fname           lname               sport tests  year\n",
      "1697       Yoel          Romero  Mixed Martial Arts     7  2018\n",
      "546      Rafael       Dos Anjos  Mixed Martial Arts     6  2018\n",
      "582       Frank           Edgar  Mixed Martial Arts     6  2018\n",
      "2148      Tyron         Woodley  Mixed Martial Arts     6  2018\n",
      "1011  Cristiane         Justino  Mixed Martial Arts     5  2018\n",
      "2024  Alexander          Volkov  Mixed Martial Arts     5  2018\n",
      "790       Chris   Gruetzemacher  Mixed Martial Arts     5  2018\n",
      "873       Paulo  Henrique Costa  Mixed Martial Arts     5  2018\n",
      "2075   Fabricio          Werdum  Mixed Martial Arts     5  2018\n",
      "1722     Ovince     Saint Preux  Mixed Martial Arts     5  2018 \n",
      "\n",
      "       fname    lname               sport tests  year\n",
      "4     Daichi      Abe  Mixed Martial Arts     1  2018\n",
      "1170   Artem    Lobov  Mixed Martial Arts     1  2018\n",
      "1143  Amanda    Lemos  Mixed Martial Arts     1  2018\n",
      "1141  Thales   Leites  Mixed Martial Arts     1  2018\n",
      "1132  Justin    Ledet  Mixed Martial Arts     1  2018\n",
      "1125     Joe   Lauzon  Mixed Martial Arts     1  2018\n",
      "1104    Ryan  LaFlare  Mixed Martial Arts     1  2018\n",
      "1077   Syuri    Kondo  Mixed Martial Arts     1  2018\n",
      "1070   Jason   Knight  Mixed Martial Arts     1  2018\n",
      "1047  Jeremy  Kimball  Mixed Martial Arts     1  2018 \n",
      "\n"
     ]
    }
   ],
   "source": [
    "for d in df.values():\n",
    "    print(d.loc[d.sport == 'Mixed Martial Arts', :].sort_values('tests', ascending=False).head(10), '\\n')\n",
    "    print(d.loc[d.sport == 'Mixed Martial Arts', :].sort_values('tests', ascending=True).head(10), '\\n')"
   ]
  },
  {
   "cell_type": "code",
   "execution_count": 223,
   "metadata": {
    "collapsed": false
   },
   "outputs": [],
   "source": [
    "# Filter to mma only and combine into 1 df\n",
    "mma = pd.concat([df.loc[df.sport=='Mixed Martial Arts',:] for df in dfs.values()], axis=0)\\\n",
    "    .drop('sport', axis=1)"
   ]
  },
  {
   "cell_type": "code",
   "execution_count": 224,
   "metadata": {
    "collapsed": false
   },
   "outputs": [
    {
     "data": {
      "text/html": [
       "<div>\n",
       "<style>\n",
       "    .dataframe thead tr:only-child th {\n",
       "        text-align: right;\n",
       "    }\n",
       "\n",
       "    .dataframe thead th {\n",
       "        text-align: left;\n",
       "    }\n",
       "\n",
       "    .dataframe tbody tr th {\n",
       "        vertical-align: top;\n",
       "    }\n",
       "</style>\n",
       "<table border=\"1\" class=\"dataframe\">\n",
       "  <thead>\n",
       "    <tr style=\"text-align: right;\">\n",
       "      <th></th>\n",
       "      <th>fname</th>\n",
       "      <th>lname</th>\n",
       "      <th>tests</th>\n",
       "      <th>year</th>\n",
       "    </tr>\n",
       "  </thead>\n",
       "  <tbody>\n",
       "    <tr>\n",
       "      <th>24</th>\n",
       "      <td>Omari</td>\n",
       "      <td>Akhmedov</td>\n",
       "      <td>1</td>\n",
       "      <td>2015</td>\n",
       "    </tr>\n",
       "    <tr>\n",
       "      <th>29</th>\n",
       "      <td>Jose</td>\n",
       "      <td>Aldo</td>\n",
       "      <td>8</td>\n",
       "      <td>2015</td>\n",
       "    </tr>\n",
       "    <tr>\n",
       "      <th>41</th>\n",
       "      <td>Eddie</td>\n",
       "      <td>Alvarez</td>\n",
       "      <td>2</td>\n",
       "      <td>2015</td>\n",
       "    </tr>\n",
       "    <tr>\n",
       "      <th>44</th>\n",
       "      <td>Thiago</td>\n",
       "      <td>Alves</td>\n",
       "      <td>5</td>\n",
       "      <td>2015</td>\n",
       "    </tr>\n",
       "    <tr>\n",
       "      <th>50</th>\n",
       "      <td>Corey</td>\n",
       "      <td>Anderson</td>\n",
       "      <td>1</td>\n",
       "      <td>2015</td>\n",
       "    </tr>\n",
       "  </tbody>\n",
       "</table>\n",
       "</div>"
      ],
      "text/plain": [
       "     fname     lname  tests  year\n",
       "24   Omari  Akhmedov      1  2015\n",
       "29    Jose      Aldo      8  2015\n",
       "41   Eddie   Alvarez      2  2015\n",
       "44  Thiago     Alves      5  2015\n",
       "50   Corey  Anderson      1  2015"
      ]
     },
     "execution_count": 224,
     "metadata": {},
     "output_type": "execute_result"
    }
   ],
   "source": [
    "mma.head()"
   ]
  },
  {
   "cell_type": "code",
   "execution_count": 225,
   "metadata": {
    "collapsed": false
   },
   "outputs": [
    {
     "data": {
      "text/html": [
       "<div>\n",
       "<style>\n",
       "    .dataframe thead tr:only-child th {\n",
       "        text-align: right;\n",
       "    }\n",
       "\n",
       "    .dataframe thead th {\n",
       "        text-align: left;\n",
       "    }\n",
       "\n",
       "    .dataframe tbody tr th {\n",
       "        vertical-align: top;\n",
       "    }\n",
       "</style>\n",
       "<table border=\"1\" class=\"dataframe\">\n",
       "  <thead>\n",
       "    <tr>\n",
       "      <th></th>\n",
       "      <th colspan=\"3\" halign=\"left\">tests</th>\n",
       "    </tr>\n",
       "    <tr>\n",
       "      <th></th>\n",
       "      <th>mean</th>\n",
       "      <th>sum</th>\n",
       "      <th>len</th>\n",
       "    </tr>\n",
       "    <tr>\n",
       "      <th>year</th>\n",
       "      <th></th>\n",
       "      <th></th>\n",
       "      <th></th>\n",
       "    </tr>\n",
       "  </thead>\n",
       "  <tbody>\n",
       "    <tr>\n",
       "      <th>2015</th>\n",
       "      <td>2.262821</td>\n",
       "      <td>353</td>\n",
       "      <td>156</td>\n",
       "    </tr>\n",
       "    <tr>\n",
       "      <th>2016</th>\n",
       "      <td>3.907850</td>\n",
       "      <td>2290</td>\n",
       "      <td>586</td>\n",
       "    </tr>\n",
       "    <tr>\n",
       "      <th>2017</th>\n",
       "      <td>4.524880</td>\n",
       "      <td>2819</td>\n",
       "      <td>623</td>\n",
       "    </tr>\n",
       "    <tr>\n",
       "      <th>2018</th>\n",
       "      <td>2.060329</td>\n",
       "      <td>1127</td>\n",
       "      <td>547</td>\n",
       "    </tr>\n",
       "  </tbody>\n",
       "</table>\n",
       "</div>"
      ],
      "text/plain": [
       "         tests           \n",
       "          mean   sum  len\n",
       "year                     \n",
       "2015  2.262821   353  156\n",
       "2016  3.907850  2290  586\n",
       "2017  4.524880  2819  623\n",
       "2018  2.060329  1127  547"
      ]
     },
     "execution_count": 225,
     "metadata": {},
     "output_type": "execute_result"
    }
   ],
   "source": [
    "mma.groupby('year').agg([np.mean, np.sum, len])"
   ]
  },
  {
   "cell_type": "code",
   "execution_count": 215,
   "metadata": {
    "collapsed": false
   },
   "outputs": [
    {
     "data": {
      "text/html": [
       "<div>\n",
       "<style>\n",
       "    .dataframe thead tr:only-child th {\n",
       "        text-align: right;\n",
       "    }\n",
       "\n",
       "    .dataframe thead th {\n",
       "        text-align: left;\n",
       "    }\n",
       "\n",
       "    .dataframe tbody tr th {\n",
       "        vertical-align: top;\n",
       "    }\n",
       "</style>\n",
       "<table border=\"1\" class=\"dataframe\">\n",
       "  <thead>\n",
       "    <tr style=\"text-align: right;\">\n",
       "      <th></th>\n",
       "      <th>fname</th>\n",
       "      <th>lname</th>\n",
       "      <th>sport</th>\n",
       "      <th>tests</th>\n",
       "      <th>year</th>\n",
       "    </tr>\n",
       "  </thead>\n",
       "  <tbody>\n",
       "    <tr>\n",
       "      <th>1000</th>\n",
       "      <td>Darren</td>\n",
       "      <td>Elkins</td>\n",
       "      <td>Mixed Martial Arts</td>\n",
       "      <td>6</td>\n",
       "      <td>2016</td>\n",
       "    </tr>\n",
       "    <tr>\n",
       "      <th>948</th>\n",
       "      <td>Darren</td>\n",
       "      <td>Elkins</td>\n",
       "      <td>Mixed Martial Arts</td>\n",
       "      <td>11</td>\n",
       "      <td>2017</td>\n",
       "    </tr>\n",
       "    <tr>\n",
       "      <th>590</th>\n",
       "      <td>Darren</td>\n",
       "      <td>Elkins</td>\n",
       "      <td>Mixed Martial Arts</td>\n",
       "      <td>3</td>\n",
       "      <td>2018</td>\n",
       "    </tr>\n",
       "  </tbody>\n",
       "</table>\n",
       "</div>"
      ],
      "text/plain": [
       "       fname   lname               sport  tests  year\n",
       "1000  Darren  Elkins  Mixed Martial Arts      6  2016\n",
       "948   Darren  Elkins  Mixed Martial Arts     11  2017\n",
       "590   Darren  Elkins  Mixed Martial Arts      3  2018"
      ]
     },
     "execution_count": 215,
     "metadata": {},
     "output_type": "execute_result"
    }
   ],
   "source": [
    "mma.loc[mma.lname == 'Elkins']"
   ]
  },
  {
   "cell_type": "code",
   "execution_count": null,
   "metadata": {
    "collapsed": true
   },
   "outputs": [],
   "source": []
  }
 ],
 "metadata": {
  "kernelspec": {
   "display_name": "Python 3",
   "language": "python",
   "name": "python3"
  },
  "language_info": {
   "codemirror_mode": {
    "name": "ipython",
    "version": 3
   },
   "file_extension": ".py",
   "mimetype": "text/x-python",
   "name": "python",
   "nbconvert_exporter": "python",
   "pygments_lexer": "ipython3",
   "version": "3.6.0"
  }
 },
 "nbformat": 4,
 "nbformat_minor": 2
}
