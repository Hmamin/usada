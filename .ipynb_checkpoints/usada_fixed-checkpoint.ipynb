{
 "cells": [
  {
   "cell_type": "code",
   "execution_count": 1,
   "metadata": {
    "collapsed": false
   },
   "outputs": [],
   "source": [
    "from pprint import pprint\n",
    "import datetime\n",
    "import pandas as pd\n",
    "import numpy as np\n",
    "import matplotlib.pyplot as plt\n",
    "import matplotlib.style as style\n",
    "import seaborn as sns\n",
    "import requests\n",
    "from bs4 import BeautifulSoup as bs\n",
    "import xml.etree.ElementTree as ET\n",
    "%matplotlib inline\n",
    "style.use('fivethirtyeight')"
   ]
  },
  {
   "cell_type": "markdown",
   "metadata": {},
   "source": [
    "## Load XML data"
   ]
  },
  {
   "cell_type": "code",
   "execution_count": 2,
   "metadata": {
    "collapsed": true
   },
   "outputs": [],
   "source": [
    "url_root = 'https://www.usada.org/uploads/web_hist_files/xml/'\n",
    "years = list(range(2015,2019))\n",
    "\n",
    "urls = [url_root + str(yr) + 'all.xml' for yr in years]\n",
    "yr_bytes = [requests.get(u).content for u in urls]"
   ]
  },
  {
   "cell_type": "code",
   "execution_count": 3,
   "metadata": {
    "collapsed": false
   },
   "outputs": [
    {
     "name": "stdout",
     "output_type": "stream",
     "text": [
      "['https://www.usada.org/uploads/web_hist_files/xml/2015all.xml', 'https://www.usada.org/uploads/web_hist_files/xml/2016all.xml', 'https://www.usada.org/uploads/web_hist_files/xml/2017all.xml', 'https://www.usada.org/uploads/web_hist_files/xml/2018all.xml']\n"
     ]
    }
   ],
   "source": [
    "print(urls)"
   ]
  },
  {
   "cell_type": "code",
   "execution_count": 4,
   "metadata": {
    "collapsed": false
   },
   "outputs": [
    {
     "name": "stdout",
     "output_type": "stream",
     "text": [
      "b'<TestHistory><TREC><YR>2015</YR><QTR>All</QTR><AName>Madeline Aaron</AName><NumTests>2</NumTests><Sport>Figure Skating</Sport><AFN>Madeline</AFN><ALN>Aaron</ALN></TREC><TREC><YR>2015</YR><QTR>All</QTR'\n",
      "\n",
      "\n",
      "\n",
      "b'\\xff\\xfe<\\x00T\\x00e\\x00s\\x00t\\x00H\\x00i\\x00s\\x00t\\x00o\\x00r\\x00y\\x00>\\x00<\\x00T\\x00R\\x00E\\x00C\\x00>\\x00<\\x00Y\\x00R\\x00>\\x002\\x000\\x001\\x006\\x00<\\x00/\\x00Y\\x00R\\x00>\\x00<\\x00Q\\x00T\\x00R\\x00>\\x00A\\x00l\\x00l\\x00<\\x00/\\x00Q\\x00T\\x00R\\x00>\\x00<\\x00A\\x00N\\x00a\\x00m\\x00e\\x00>\\x00J\\x00e\\x00s\\x00s\\x00i\\x00c\\x00a\\x00 \\x00(\\x00P\\x00i\\x00x\\x00l\\x00e\\x00r\\x00)\\x00 \\x00T\\x00e\\x00b\\x00o\\x00<\\x00/\\x00A\\x00N\\x00a\\x00m\\x00e\\x00>\\x00<\\x00N\\x00u\\x00m\\x00T\\x00e\\x00s\\x00t\\x00s\\x00>\\x001\\x00<\\x00/\\x00N\\x00u\\x00m\\x00T\\x00'\n",
      "\n",
      "\n",
      "\n",
      "b'\\xff\\xfe<\\x00T\\x00e\\x00s\\x00t\\x00H\\x00i\\x00s\\x00t\\x00o\\x00r\\x00y\\x00>\\x00<\\x00T\\x00R\\x00E\\x00C\\x00>\\x00<\\x00Y\\x00R\\x00>\\x002\\x000\\x001\\x007\\x00<\\x00/\\x00Y\\x00R\\x00>\\x00<\\x00Q\\x00T\\x00R\\x00>\\x00A\\x00l\\x00l\\x00<\\x00/\\x00Q\\x00T\\x00R\\x00>\\x00<\\x00A\\x00N\\x00a\\x00m\\x00e\\x00>\\x00M\\x00a\\x00x\\x00 \\x00A\\x00a\\x00r\\x00o\\x00n\\x00<\\x00/\\x00A\\x00N\\x00a\\x00m\\x00e\\x00>\\x00<\\x00N\\x00u\\x00m\\x00T\\x00e\\x00s\\x00t\\x00s\\x00>\\x003\\x00<\\x00/\\x00N\\x00u\\x00m\\x00T\\x00e\\x00s\\x00t\\x00s\\x00>\\x00<\\x00S\\x00p\\x00o\\x00r\\x00t\\x00>\\x00'\n",
      "\n",
      "\n",
      "\n",
      "b'\\xff\\xfe<\\x00T\\x00e\\x00s\\x00t\\x00H\\x00i\\x00s\\x00t\\x00o\\x00r\\x00y\\x00>\\x00<\\x00T\\x00R\\x00E\\x00C\\x00>\\x00<\\x00Y\\x00R\\x00>\\x002\\x000\\x001\\x008\\x00<\\x00/\\x00Y\\x00R\\x00>\\x00<\\x00Q\\x00T\\x00R\\x00>\\x00A\\x00l\\x00l\\x00<\\x00/\\x00Q\\x00T\\x00R\\x00>\\x00<\\x00A\\x00N\\x00a\\x00m\\x00e\\x00>\\x00K\\x00a\\x00i\\x00t\\x00l\\x00i\\x00n\\x00 \\x00(\\x00A\\x00n\\x00t\\x00o\\x00n\\x00n\\x00e\\x00a\\x00u\\x00)\\x00 \\x00K\\x00e\\x00o\\x00u\\x00g\\x00h\\x00<\\x00/\\x00A\\x00N\\x00a\\x00m\\x00e\\x00>\\x00<\\x00N\\x00u\\x00m\\x00T\\x00e\\x00s\\x00t\\x00s\\x00>\\x001\\x00<\\x00'\n",
      "\n",
      "\n",
      "\n"
     ]
    }
   ],
   "source": [
    "for y in yr_bytes:\n",
    "    print(y[:200])\n",
    "    print('\\n\\n')"
   ]
  },
  {
   "cell_type": "markdown",
   "metadata": {},
   "source": [
    "## Parsing XML to DF"
   ]
  },
  {
   "cell_type": "code",
   "execution_count": 5,
   "metadata": {
    "collapsed": false
   },
   "outputs": [],
   "source": [
    "roots = {}\n",
    "athletes = {}\n",
    "dfs = {}\n",
    "\n",
    "# Create dict of xml root elements for each year. \n",
    "for i, y in enumerate(years):\n",
    "    roots[y] = ET.fromstring(yr_bytes[i])\n",
    "    athletes[y] = []\n",
    "    \n",
    "    # Filter by sport to create list of athlete dicts for each year.\n",
    "    for child in roots[y]:\n",
    "        player_dict = {\n",
    "            'year': child[0].text,\n",
    "            'sport': child[4].text,\n",
    "            'fname': child[5].text,\n",
    "            'lname': child[6].text,\n",
    "            'tests': child[3].text\n",
    "        }\n",
    "        athletes[y].append(player_dict)\n",
    "        \n",
    "    # Create dataframe for each year\n",
    "    dfs[y] = pd.DataFrame(athletes[y])\n",
    "    dfs[y] = dfs[y].astype({'tests': 'int64', 'year': 'int64'})"
   ]
  },
  {
   "cell_type": "code",
   "execution_count": 6,
   "metadata": {
    "collapsed": false
   },
   "outputs": [
    {
     "name": "stdout",
     "output_type": "stream",
     "text": [
      "      fname    lname              sport  tests  year\n",
      "0  Madeline    Aaron     Figure Skating      2  2015\n",
      "1       Max    Aaron     Figure Skating      3  2015\n",
      "2   Stephen     Abas          Wrestling      1  2015\n",
      "3     Mason  Abbiate  Paralympic Soccer      1  2015\n",
      "4    Jeremy   Abbott     Figure Skating      1  2015 \n",
      "\n",
      "      fname          lname              sport  tests  year\n",
      "0   Jessica  (Pixler) Tebo    Track and Field      1  2016\n",
      "1  Madeline          Aaron     Figure Skating      1  2016\n",
      "2       Max          Aaron     Figure Skating      2  2016\n",
      "3     Mason        Abbiate  Paralympic Soccer      1  2016\n",
      "4      Mara         Abbott            Cycling      8  2016 \n",
      "\n",
      "       fname         lname                 sport  tests  year\n",
      "0        Max         Aaron        Figure Skating      3  2017\n",
      "1       Mara        Abbott               Cycling      5  2017\n",
      "2     Taylor        Abbott              Swimming      2  2017\n",
      "3  Abdihakim    Abdirahman       Track and Field     10  2017\n",
      "4     Hakeem  Abdul Saboor  Bobsled and Skeleton      1  2017 \n",
      "\n",
      "       fname               lname               sport  tests  year\n",
      "0    Kaitlin  (Antonneau) Keough             Cycling      1  2018\n",
      "1  Contender                   1  Mixed Martial Arts      2  2018\n",
      "2      Mason             Abbiate   Paralympic Soccer      1  2018\n",
      "3       Mara              Abbott             Cycling      1  2018\n",
      "4     Taylor              Abbott            Swimming      1  2018 \n",
      "\n"
     ]
    }
   ],
   "source": [
    "for df in dfs.values():\n",
    "    print(df.head(), '\\n')"
   ]
  },
  {
   "cell_type": "code",
   "execution_count": 7,
   "metadata": {
    "collapsed": false
   },
   "outputs": [
    {
     "name": "stdout",
     "output_type": "stream",
     "text": [
      "        fname      lname               sport  tests  year\n",
      "2564    Ronda     Rousey  Mixed Martial Arts      8  2015\n",
      "29       Jose       Aldo  Mixed Martial Arts      8  2015\n",
      "1990    Conor   McGregor  Mixed Martial Arts      8  2015\n",
      "1282      Dan  Henderson  Mixed Martial Arts      7  2015\n",
      "1371    Holly       Holm  Mixed Martial Arts      7  2015\n",
      "647   Antonio   Da Silva  Mixed Martial Arts      7  2015\n",
      "2536     Yoel     Romero  Mixed Martial Arts      6  2015\n",
      "2509     Luke   Rockhold  Mixed Martial Arts      6  2015\n",
      "774    Rafael  Dos Anjos  Mixed Martial Arts      6  2015\n",
      "184     Vitor    Belfort  Mixed Martial Arts      6  2015 \n",
      "\n",
      "       fname      lname               sport  tests  year\n",
      "24     Omari   Akhmedov  Mixed Martial Arts      1  2015\n",
      "2169     Roy     Nelson  Mixed Martial Arts      1  2015\n",
      "2121  Gegard    Mousasi  Mixed Martial Arts      1  2015\n",
      "2083  Takeya   Mizugaki  Mixed Martial Arts      1  2015\n",
      "1967  Tamdan    McCrory  Mixed Martial Arts      1  2015\n",
      "1931   Jorge   Masvidal  Mixed Martial Arts      1  2015\n",
      "1904    Nate  Marquardt  Mixed Martial Arts      1  2015\n",
      "1868   Fabio  Maldonado  Mixed Martial Arts      1  2015\n",
      "1863  Ruslan  Magomedov  Mixed Martial Arts      1  2015\n",
      "1853    Reza     Madadi  Mixed Martial Arts      1  2015 \n",
      "\n",
      "\n",
      "         fname      lname               sport  tests  year\n",
      "3145  Anderson      Silva  Mixed Martial Arts     15  2016\n",
      "65       Eddie    Alvarez  Mixed Martial Arts     14  2016\n",
      "732   Dominick       Cruz  Mixed Martial Arts     14  2016\n",
      "1482     Johny  Hendricks  Mixed Martial Arts     13  2016\n",
      "200       Josh    Barnett  Mixed Martial Arts     13  2016\n",
      "3743     Tyron    Woodley  Mixed Martial Arts     12  2016\n",
      "2165      Nate  Marquardt  Mixed Martial Arts     12  2016\n",
      "3381    Miesha       Tate  Mixed Martial Arts     12  2016\n",
      "3429   Stephen   Thompson  Mixed Martial Arts     12  2016\n",
      "2352     Stipe     Miocic  Mixed Martial Arts     11  2016 \n",
      "\n",
      "           fname            lname               sport  tests  year\n",
      "1918        Ryan          LaFlare  Mixed Martial Arts      1  2016\n",
      "1472      Marcin             Held  Mixed Martial Arts      1  2016\n",
      "2611        Alan          Patrick  Mixed Martial Arts      1  2016\n",
      "2634       Filip            Pejic  Mixed Martial Arts      1  2016\n",
      "550         Alex         Chambers  Mixed Martial Arts      1  2016\n",
      "2374  Erick Omar          Montano  Mixed Martial Arts      1  2016\n",
      "2982      Justin            Salas  Mixed Martial Arts      1  2016\n",
      "537    Godofredo           Castro  Mixed Martial Arts      1  2016\n",
      "1505      Alvaro  Herrera Mendoza  Mixed Martial Arts      1  2016\n",
      "1509       Clint           Hester  Mixed Martial Arts      1  2016 \n",
      "\n",
      "\n",
      "          fname      lname               sport  tests  year\n",
      "1480      Holly       Holm  Mixed Martial Arts     15  2017\n",
      "832          TJ  Dillashaw  Mixed Martial Arts     14  2017\n",
      "1663  Cristiane    Justino  Mixed Martial Arts     14  2017\n",
      "3241      Tecia     Torres  Mixed Martial Arts     14  2017\n",
      "2976   Anderson      Silva  Mixed Martial Arts     13  2017\n",
      "660      Daniel    Cormier  Mixed Martial Arts     13  2017\n",
      "233       Vitor    Belfort  Mixed Martial Arts     13  2017\n",
      "3093     Jeremy   Stephens  Mixed Martial Arts     13  2017\n",
      "324         Ray       Borg  Mixed Martial Arts     13  2017\n",
      "2220      Stipe     Miocic  Mixed Martial Arts     12  2017 \n",
      "\n",
      "        fname                       lname               sport  tests  year\n",
      "5      Shamil                Abdurakhimov  Mixed Martial Arts      1  2017\n",
      "2335      Roy                      Nelson  Mixed Martial Arts      1  2017\n",
      "845     Shana                      Dobson  Mixed Martial Arts      1  2017\n",
      "2359     Kyle                        Noke  Mixed Martial Arts      1  2017\n",
      "2409   Yushin                       Okami  Mixed Martial Arts      1  2017\n",
      "778    Talita  de Oliveira Neves Bernardo  Mixed Martial Arts      1  2017\n",
      "2414   Michal                Oleksiejczuk  Mixed Martial Arts      1  2017\n",
      "2438  Rachael             Ostovich-Berdon  Mixed Martial Arts      1  2017\n",
      "773      Mike                 De La Torre  Mixed Martial Arts      1  2017\n",
      "772   Montana                  De La Rosa  Mixed Martial Arts      1  2017 \n",
      "\n",
      "\n",
      "          fname        lname               sport  tests  year\n",
      "646      Rashad        Evans  Mixed Martial Arts     10  2018\n",
      "135       Edson      Barboza  Mixed Martial Arts      7  2018\n",
      "1773       Yoel       Romero  Mixed Martial Arts      7  2018\n",
      "609       Frank        Edgar  Mixed Martial Arts      6  2018\n",
      "572      Rafael    Dos Anjos  Mixed Martial Arts      6  2018\n",
      "2248      Tyron      Woodley  Mixed Martial Arts      6  2018\n",
      "1799     Ovince  Saint Preux  Mixed Martial Arts      5  2018\n",
      "1629     Dustin      Poirier  Mixed Martial Arts      5  2018\n",
      "1517     Amanda        Nunes  Mixed Martial Arts      5  2018\n",
      "1054  Cristiane      Justino  Mixed Martial Arts      5  2018 \n",
      "\n",
      "        fname            lname               sport  tests  year\n",
      "1048     Alan           Jouban  Mixed Martial Arts      1  2018\n",
      "1743    Danny          Roberts  Mixed Martial Arts      1  2018\n",
      "908     Johny        Hendricks  Mixed Martial Arts      1  2018\n",
      "900    Marcin             Held  Mixed Martial Arts      1  2018\n",
      "1123    Syuri            Kondo  Mixed Martial Arts      1  2018\n",
      "475       Ion         Cutelaba  Mixed Martial Arts      1  2018\n",
      "480   Sheymon  Da Silva Moraes  Mixed Martial Arts      1  2018\n",
      "487     Salim   Damian Touahri  Mixed Martial Arts      1  2018\n",
      "489    Jarjis            Danho  Mixed Martial Arts      1  2018\n",
      "493    Beneil          Dariush  Mixed Martial Arts      1  2018 \n",
      "\n",
      "\n"
     ]
    }
   ],
   "source": [
    "for d in dfs.values():\n",
    "    print(d.loc[d.sport == 'Mixed Martial Arts', :].sort_values('tests', ascending=False).head(10), '\\n')\n",
    "    print(d.loc[d.sport == 'Mixed Martial Arts', :].sort_values('tests', ascending=True).head(10), '\\n\\n')"
   ]
  },
  {
   "cell_type": "code",
   "execution_count": 8,
   "metadata": {
    "collapsed": false
   },
   "outputs": [],
   "source": [
    "# Filter to mma only and combine into 1 df\n",
    "mma = pd.concat([df.loc[df.sport=='Mixed Martial Arts',:] for df in dfs.values()], axis=0)\\\n",
    "    .drop('sport', axis=1)\n",
    "sports = pd.concat([df.loc[df.sport!='Mixed Martial Arts',:] for df in dfs.values()], axis=0)"
   ]
  },
  {
   "cell_type": "code",
   "execution_count": 9,
   "metadata": {
    "collapsed": true
   },
   "outputs": [],
   "source": [
    "def partial_year_percent(cell):\n",
    "    '''Calculate % of year under USADA since some are <365 (first year of program\n",
    "    and current year in progress).'''\n",
    "    if cell == 2015:\n",
    "        years = (datetime.date(2016, 1, 1) - start_date).days / 365\n",
    "    elif cell == end_date.year:\n",
    "        years = (end_date - datetime.date(end_date.year-1, 12, 31)).days / 365\n",
    "    else:\n",
    "        years = 1\n",
    "    return years"
   ]
  },
  {
   "cell_type": "code",
   "execution_count": 10,
   "metadata": {
    "collapsed": false
   },
   "outputs": [],
   "source": [
    "start_date = datetime.date(2015, 7, 1)\n",
    "end_date = datetime.date.today()\n",
    "mma['year_percent'] = mma['year'].apply(partial_year_percent)"
   ]
  },
  {
   "cell_type": "code",
   "execution_count": 22,
   "metadata": {
    "collapsed": false
   },
   "outputs": [],
   "source": [
    "mma['req_tests'] = np.maximum(mma['tests'] - 2, 0)\n",
    "mma['scaled_tests'] = mma['tests'] / mma['year_percent']\n",
    "mma['scaled_req_tests'] = np.maximum(mma['scaled_tests'] - 2, 0)\n",
    "mma['name'] = mma['fname'] + ' ' + mma['lname']"
   ]
  },
  {
   "cell_type": "code",
   "execution_count": 23,
   "metadata": {
    "collapsed": false
   },
   "outputs": [
    {
     "name": "stdout",
     "output_type": "stream",
     "text": [
      "     fname     lname  tests  year  year_percent  req_tests  scaled_tests  \\\n",
      "24   Omari  Akhmedov      1  2015       0.50411          0      1.983696   \n",
      "29    Jose      Aldo      8  2015       0.50411          6     15.869565   \n",
      "41   Eddie   Alvarez      2  2015       0.50411          0      3.967391   \n",
      "44  Thiago     Alves      5  2015       0.50411          3      9.918478   \n",
      "50   Corey  Anderson      1  2015       0.50411          0      1.983696   \n",
      "\n",
      "    scaled_req_tests            name  \n",
      "24          0.000000  Omari Akhmedov  \n",
      "29         13.869565       Jose Aldo  \n",
      "41          1.967391   Eddie Alvarez  \n",
      "44          7.918478    Thiago Alves  \n",
      "50          0.000000  Corey Anderson  \n",
      "      fname    lname              sport  tests  year\n",
      "0  Madeline    Aaron     Figure Skating      2  2015\n",
      "1       Max    Aaron     Figure Skating      3  2015\n",
      "2   Stephen     Abas          Wrestling      1  2015\n",
      "3     Mason  Abbiate  Paralympic Soccer      1  2015\n",
      "4    Jeremy   Abbott     Figure Skating      1  2015\n"
     ]
    }
   ],
   "source": [
    "print(mma.head())\n",
    "print(sports.head())"
   ]
  },
  {
   "cell_type": "code",
   "execution_count": 98,
   "metadata": {
    "collapsed": false
   },
   "outputs": [
    {
     "data": {
      "text/html": [
       "<div>\n",
       "<style>\n",
       "    .dataframe thead tr:only-child th {\n",
       "        text-align: right;\n",
       "    }\n",
       "\n",
       "    .dataframe thead th {\n",
       "        text-align: left;\n",
       "    }\n",
       "\n",
       "    .dataframe tbody tr th {\n",
       "        vertical-align: top;\n",
       "    }\n",
       "</style>\n",
       "<table border=\"1\" class=\"dataframe\">\n",
       "  <thead>\n",
       "    <tr>\n",
       "      <th></th>\n",
       "      <th>name</th>\n",
       "      <th>fname</th>\n",
       "      <th>lname</th>\n",
       "      <th colspan=\"4\" halign=\"left\">req_tests</th>\n",
       "      <th colspan=\"4\" halign=\"left\">scaled_req_tests</th>\n",
       "      <th colspan=\"4\" halign=\"left\">scaled_tests</th>\n",
       "      <th colspan=\"4\" halign=\"left\">tests</th>\n",
       "    </tr>\n",
       "    <tr>\n",
       "      <th>year</th>\n",
       "      <th></th>\n",
       "      <th></th>\n",
       "      <th></th>\n",
       "      <th>2015</th>\n",
       "      <th>2016</th>\n",
       "      <th>2017</th>\n",
       "      <th>2018</th>\n",
       "      <th>2015</th>\n",
       "      <th>2016</th>\n",
       "      <th>2017</th>\n",
       "      <th>2018</th>\n",
       "      <th>2015</th>\n",
       "      <th>2016</th>\n",
       "      <th>2017</th>\n",
       "      <th>2018</th>\n",
       "      <th>2015</th>\n",
       "      <th>2016</th>\n",
       "      <th>2017</th>\n",
       "      <th>2018</th>\n",
       "    </tr>\n",
       "  </thead>\n",
       "  <tbody>\n",
       "    <tr>\n",
       "      <th>0</th>\n",
       "      <td>Abdul Razak Alhassan</td>\n",
       "      <td>Abdul</td>\n",
       "      <td>Razak Alhassan</td>\n",
       "      <td>NaN</td>\n",
       "      <td>NaN</td>\n",
       "      <td>2.0</td>\n",
       "      <td>0.0</td>\n",
       "      <td>NaN</td>\n",
       "      <td>NaN</td>\n",
       "      <td>2.0</td>\n",
       "      <td>2.649682</td>\n",
       "      <td>NaN</td>\n",
       "      <td>NaN</td>\n",
       "      <td>4.0</td>\n",
       "      <td>4.649682</td>\n",
       "      <td>NaN</td>\n",
       "      <td>NaN</td>\n",
       "      <td>4.0</td>\n",
       "      <td>2.0</td>\n",
       "    </tr>\n",
       "    <tr>\n",
       "      <th>1</th>\n",
       "      <td>Abdul-Kerim Edilov</td>\n",
       "      <td>Abdul-Kerim</td>\n",
       "      <td>Edilov</td>\n",
       "      <td>NaN</td>\n",
       "      <td>0.0</td>\n",
       "      <td>2.0</td>\n",
       "      <td>NaN</td>\n",
       "      <td>NaN</td>\n",
       "      <td>0.0</td>\n",
       "      <td>2.0</td>\n",
       "      <td>NaN</td>\n",
       "      <td>NaN</td>\n",
       "      <td>2.0</td>\n",
       "      <td>4.0</td>\n",
       "      <td>NaN</td>\n",
       "      <td>NaN</td>\n",
       "      <td>2.0</td>\n",
       "      <td>4.0</td>\n",
       "      <td>NaN</td>\n",
       "    </tr>\n",
       "    <tr>\n",
       "      <th>2</th>\n",
       "      <td>Abel Trujillo</td>\n",
       "      <td>Abel</td>\n",
       "      <td>Trujillo</td>\n",
       "      <td>2.0</td>\n",
       "      <td>4.0</td>\n",
       "      <td>1.0</td>\n",
       "      <td>NaN</td>\n",
       "      <td>5.934783</td>\n",
       "      <td>4.0</td>\n",
       "      <td>1.0</td>\n",
       "      <td>NaN</td>\n",
       "      <td>7.934783</td>\n",
       "      <td>6.0</td>\n",
       "      <td>3.0</td>\n",
       "      <td>NaN</td>\n",
       "      <td>4.0</td>\n",
       "      <td>6.0</td>\n",
       "      <td>3.0</td>\n",
       "      <td>NaN</td>\n",
       "    </tr>\n",
       "    <tr>\n",
       "      <th>3</th>\n",
       "      <td>Abu Azaitar</td>\n",
       "      <td>Abu</td>\n",
       "      <td>Azaitar</td>\n",
       "      <td>NaN</td>\n",
       "      <td>NaN</td>\n",
       "      <td>NaN</td>\n",
       "      <td>0.0</td>\n",
       "      <td>NaN</td>\n",
       "      <td>NaN</td>\n",
       "      <td>NaN</td>\n",
       "      <td>0.324841</td>\n",
       "      <td>NaN</td>\n",
       "      <td>NaN</td>\n",
       "      <td>NaN</td>\n",
       "      <td>2.324841</td>\n",
       "      <td>NaN</td>\n",
       "      <td>NaN</td>\n",
       "      <td>NaN</td>\n",
       "      <td>1.0</td>\n",
       "    </tr>\n",
       "    <tr>\n",
       "      <th>4</th>\n",
       "      <td>Adam Hunter</td>\n",
       "      <td>Adam</td>\n",
       "      <td>Hunter</td>\n",
       "      <td>NaN</td>\n",
       "      <td>0.0</td>\n",
       "      <td>NaN</td>\n",
       "      <td>NaN</td>\n",
       "      <td>NaN</td>\n",
       "      <td>0.0</td>\n",
       "      <td>NaN</td>\n",
       "      <td>NaN</td>\n",
       "      <td>NaN</td>\n",
       "      <td>2.0</td>\n",
       "      <td>NaN</td>\n",
       "      <td>NaN</td>\n",
       "      <td>NaN</td>\n",
       "      <td>2.0</td>\n",
       "      <td>NaN</td>\n",
       "      <td>NaN</td>\n",
       "    </tr>\n",
       "  </tbody>\n",
       "</table>\n",
       "</div>"
      ],
      "text/plain": [
       "                      name        fname           lname req_tests            \\\n",
       "year                                                         2015 2016 2017   \n",
       "0     Abdul Razak Alhassan        Abdul  Razak Alhassan       NaN  NaN  2.0   \n",
       "1       Abdul-Kerim Edilov  Abdul-Kerim          Edilov       NaN  0.0  2.0   \n",
       "2            Abel Trujillo         Abel        Trujillo       2.0  4.0  1.0   \n",
       "3              Abu Azaitar          Abu         Azaitar       NaN  NaN  NaN   \n",
       "4              Adam Hunter         Adam          Hunter       NaN  0.0  NaN   \n",
       "\n",
       "          scaled_req_tests                     scaled_tests            \\\n",
       "year 2018             2015 2016 2017      2018         2015 2016 2017   \n",
       "0     0.0              NaN  NaN  2.0  2.649682          NaN  NaN  4.0   \n",
       "1     NaN              NaN  0.0  2.0       NaN          NaN  2.0  4.0   \n",
       "2     NaN         5.934783  4.0  1.0       NaN     7.934783  6.0  3.0   \n",
       "3     0.0              NaN  NaN  NaN  0.324841          NaN  NaN  NaN   \n",
       "4     NaN              NaN  0.0  NaN       NaN          NaN  2.0  NaN   \n",
       "\n",
       "               tests                 \n",
       "year      2018  2015 2016 2017 2018  \n",
       "0     4.649682   NaN  NaN  4.0  2.0  \n",
       "1          NaN   NaN  2.0  4.0  NaN  \n",
       "2          NaN   4.0  6.0  3.0  NaN  \n",
       "3     2.324841   NaN  NaN  NaN  1.0  \n",
       "4          NaN   NaN  2.0  NaN  NaN  "
      ]
     },
     "execution_count": 98,
     "metadata": {},
     "output_type": "execute_result"
    }
   ],
   "source": [
    "# Trying to spread columns into new df (experimenting).\n",
    "mma_spread = mma.pivot_table(index=['name', 'fname', 'lname'], columns='year',\n",
    "     values=['tests', 'scaled_tests', 'req_tests', 'scaled_req_tests']).reset_index()\n",
    "mma_spread.head()"
   ]
  },
  {
   "cell_type": "code",
   "execution_count": 113,
   "metadata": {
    "collapsed": false
   },
   "outputs": [
    {
     "name": "stdout",
     "output_type": "stream",
     "text": [
      "12.84%\n"
     ]
    }
   ],
   "source": [
    "# Fighters tested at least once each year since start of program.\n",
    "all_years = mma_spread.loc[mma_spread.tests.isnull().sum(axis=1) == 0][['name', 'tests']]\n",
    "\n",
    "print(str(round(100 * all_years.shape[0] / mma_spread.shape[0], 2)) + '%')"
   ]
  },
  {
   "cell_type": "code",
   "execution_count": 125,
   "metadata": {
    "collapsed": false
   },
   "outputs": [
    {
     "data": {
      "text/plain": [
       "['name',\n",
       " 'fname',\n",
       " 'lname',\n",
       " 'req_tests_15',\n",
       " 'req_tests_16',\n",
       " 'req_tests_17',\n",
       " 'req_tests_18',\n",
       " 'scaled_req_tests_15',\n",
       " 'scaled_req_tests_16',\n",
       " 'scaled_req_tests_17',\n",
       " 'scaled_req_tests_18',\n",
       " 'scaled_tests_15',\n",
       " 'scaled_tests_16',\n",
       " 'scaled_tests_17',\n",
       " 'scaled_tests_18',\n",
       " 'tests_15',\n",
       " 'tests_16',\n",
       " 'tests_17',\n",
       " 'tests_18']"
      ]
     },
     "execution_count": 125,
     "metadata": {},
     "output_type": "execute_result"
    }
   ],
   "source": [
    "# testing possible colnames to remove multi-index\n",
    "[group + '_' + str(col)[-2:] for group, col in mma_spread.columns.values]\n",
    "[group + '_' + str(col)[-2:] if col else group for group, col in mma_spread.columns.values]"
   ]
  },
  {
   "cell_type": "code",
   "execution_count": 114,
   "metadata": {
    "collapsed": false
   },
   "outputs": [
    {
     "name": "stdout",
     "output_type": "stream",
     "text": [
      "name\n",
      "Holly Holm            35\n",
      "Yoel Romero           35\n",
      "Rafael Dos Anjos      34\n",
      "Cristiane Justino     33\n",
      "Vitor Belfort         33\n",
      "Daniel Cormier        33\n",
      "Eddie Alvarez         32\n",
      "Dominick Cruz         29\n",
      "Stipe Miocic          29\n",
      "Edson Barboza         29\n",
      "Fabricio Werdum       28\n",
      "Anderson Silva        28\n",
      "Conor McGregor        28\n",
      "Robbie Lawler         28\n",
      "Frank Edgar           27\n",
      "Tyron Woodley         27\n",
      "TJ Dillashaw          27\n",
      "Tecia Torres          27\n",
      "Stephen Thompson      27\n",
      "Dustin Poirier        26\n",
      "Amanda Nunes          26\n",
      "Jose Aldo             26\n",
      "Chris Weidman         25\n",
      "Ovince Saint Preux    25\n",
      "Demetrious Johnson    25\n",
      "Name: tests, dtype: int64\n",
      "name\n",
      "Ariel Beck                 1\n",
      "James Te Huna              1\n",
      "Song Yadong                1\n",
      "Milana Dudieva             1\n",
      "Renato Moicano             1\n",
      "Mark Anthony De La Rosa    1\n",
      "Michal Oleksiejczuk        1\n",
      "Shawn Jordan               1\n",
      "Michael Wilkinson          1\n",
      "Dan Castillo               1\n",
      "Name: tests, dtype: int64\n"
     ]
    }
   ],
   "source": [
    "fighter_totals = mma['tests'].groupby([mma.name]).sum().sort_values(ascending=False)\n",
    "\n",
    "print(fighter_totals.head(25))\n",
    "print(fighter_totals.tail(10))"
   ]
  },
  {
   "cell_type": "code",
   "execution_count": 14,
   "metadata": {
    "collapsed": false
   },
   "outputs": [
    {
     "data": {
      "text/html": [
       "<div>\n",
       "<style>\n",
       "    .dataframe thead tr:only-child th {\n",
       "        text-align: right;\n",
       "    }\n",
       "\n",
       "    .dataframe thead th {\n",
       "        text-align: left;\n",
       "    }\n",
       "\n",
       "    .dataframe tbody tr th {\n",
       "        vertical-align: top;\n",
       "    }\n",
       "</style>\n",
       "<table border=\"1\" class=\"dataframe\">\n",
       "  <thead>\n",
       "    <tr>\n",
       "      <th></th>\n",
       "      <th colspan=\"3\" halign=\"left\">tests</th>\n",
       "      <th colspan=\"3\" halign=\"left\">scaled_tests</th>\n",
       "      <th colspan=\"3\" halign=\"left\">req_tests</th>\n",
       "      <th colspan=\"3\" halign=\"left\">scaled_req_tests</th>\n",
       "    </tr>\n",
       "    <tr>\n",
       "      <th></th>\n",
       "      <th>mean</th>\n",
       "      <th>sum</th>\n",
       "      <th>len</th>\n",
       "      <th>mean</th>\n",
       "      <th>sum</th>\n",
       "      <th>len</th>\n",
       "      <th>mean</th>\n",
       "      <th>sum</th>\n",
       "      <th>len</th>\n",
       "      <th>mean</th>\n",
       "      <th>sum</th>\n",
       "      <th>len</th>\n",
       "    </tr>\n",
       "    <tr>\n",
       "      <th>year</th>\n",
       "      <th></th>\n",
       "      <th></th>\n",
       "      <th></th>\n",
       "      <th></th>\n",
       "      <th></th>\n",
       "      <th></th>\n",
       "      <th></th>\n",
       "      <th></th>\n",
       "      <th></th>\n",
       "      <th></th>\n",
       "      <th></th>\n",
       "      <th></th>\n",
       "    </tr>\n",
       "  </thead>\n",
       "  <tbody>\n",
       "    <tr>\n",
       "      <th>2015</th>\n",
       "      <td>2.262821</td>\n",
       "      <td>353</td>\n",
       "      <td>156</td>\n",
       "      <td>4.488747</td>\n",
       "      <td>700.244565</td>\n",
       "      <td>156.0</td>\n",
       "      <td>0.730769</td>\n",
       "      <td>114</td>\n",
       "      <td>156</td>\n",
       "      <td>2.496377</td>\n",
       "      <td>389.434783</td>\n",
       "      <td>156.0</td>\n",
       "    </tr>\n",
       "    <tr>\n",
       "      <th>2016</th>\n",
       "      <td>3.907850</td>\n",
       "      <td>2290</td>\n",
       "      <td>586</td>\n",
       "      <td>3.907850</td>\n",
       "      <td>2290.000000</td>\n",
       "      <td>586.0</td>\n",
       "      <td>2.076792</td>\n",
       "      <td>1217</td>\n",
       "      <td>586</td>\n",
       "      <td>2.076792</td>\n",
       "      <td>1217.000000</td>\n",
       "      <td>586.0</td>\n",
       "    </tr>\n",
       "    <tr>\n",
       "      <th>2017</th>\n",
       "      <td>4.524880</td>\n",
       "      <td>2819</td>\n",
       "      <td>623</td>\n",
       "      <td>4.524880</td>\n",
       "      <td>2819.000000</td>\n",
       "      <td>623.0</td>\n",
       "      <td>2.653291</td>\n",
       "      <td>1653</td>\n",
       "      <td>623</td>\n",
       "      <td>2.653291</td>\n",
       "      <td>1653.000000</td>\n",
       "      <td>623.0</td>\n",
       "    </tr>\n",
       "    <tr>\n",
       "      <th>2018</th>\n",
       "      <td>2.171171</td>\n",
       "      <td>1205</td>\n",
       "      <td>555</td>\n",
       "      <td>5.047627</td>\n",
       "      <td>2801.433121</td>\n",
       "      <td>555.0</td>\n",
       "      <td>0.491892</td>\n",
       "      <td>273</td>\n",
       "      <td>555</td>\n",
       "      <td>3.047627</td>\n",
       "      <td>1691.433121</td>\n",
       "      <td>555.0</td>\n",
       "    </tr>\n",
       "  </tbody>\n",
       "</table>\n",
       "</div>"
      ],
      "text/plain": [
       "         tests            scaled_tests                     req_tests        \\\n",
       "          mean   sum  len         mean          sum    len      mean   sum   \n",
       "year                                                                         \n",
       "2015  2.262821   353  156     4.488747   700.244565  156.0  0.730769   114   \n",
       "2016  3.907850  2290  586     3.907850  2290.000000  586.0  2.076792  1217   \n",
       "2017  4.524880  2819  623     4.524880  2819.000000  623.0  2.653291  1653   \n",
       "2018  2.171171  1205  555     5.047627  2801.433121  555.0  0.491892   273   \n",
       "\n",
       "          scaled_req_tests                      \n",
       "      len             mean          sum    len  \n",
       "year                                            \n",
       "2015  156         2.496377   389.434783  156.0  \n",
       "2016  586         2.076792  1217.000000  586.0  \n",
       "2017  623         2.653291  1653.000000  623.0  \n",
       "2018  555         3.047627  1691.433121  555.0  "
      ]
     },
     "execution_count": 14,
     "metadata": {},
     "output_type": "execute_result"
    }
   ],
   "source": [
    "grouped_avg = mma[['tests', 'scaled_tests', 'req_tests', 'scaled_req_tests']].groupby(mma.year)\\\n",
    "    .agg([np.mean, np.sum, len])\n",
    "grouped_avg"
   ]
  },
  {
   "cell_type": "code",
   "execution_count": 15,
   "metadata": {
    "collapsed": false
   },
   "outputs": [
    {
     "data": {
      "image/png": "[encoded data removed]",
      "text/plain": [
       "<matplotlib.figure.Figure at 0xbba2f60>"
      ]
     },
     "metadata": {},
     "output_type": "display_data"
    }
   ],
   "source": [
    "scaled_means = grouped_avg['scaled_tests']['mean'].values\n",
    "scaled_req_means = grouped_avg['scaled_req_tests']['mean'].values\n",
    "\n",
    "fig, ax = plt.subplots(figsize=(10,8))\n",
    "ax.plot(years, scaled_means, color='red', ls='--', lw=1.5, label='Mean Tests (scaled)')\n",
    "ax.plot(years, scaled_req_means, color='#ad4747', label='Mean Required Tests (scaled)')\n",
    "ax.fill_between(years, scaled_means, scaled_req_means, alpha=0.1, color='red')\n",
    "ax.fill_between(years, scaled_req_means, 0, color='#ad4747')\n",
    "plt.xlim(start_date.year, end_date.year)\n",
    "plt.xticks(years)\n",
    "plt.xlabel('Year')\n",
    "plt.ylim(0, 5)\n",
    "plt.ylabel('Avg. Tests')\n",
    "plt.title('Yearly Testing')\n",
    "plt.legend(loc='upper right', bbox_to_anchor=(.94, 1.07))\n",
    "plt.show()"
   ]
  },
  {
   "cell_type": "code",
   "execution_count": 16,
   "metadata": {
    "collapsed": false
   },
   "outputs": [
    {
     "data": {
      "image/png": "[encoded data removed]",
      "text/plain": [
       "<matplotlib.figure.Figure at 0xcb20e10>"
      ]
     },
     "metadata": {},
     "output_type": "display_data"
    }
   ],
   "source": [
    "mma.hist('tests', by='year', figsize=(12,8), sharex=True, bins=range(16))\n",
    "plt.axvline(3, ls='--', lw=2, color='white')\n",
    "plt.xticks(range(1, 17, 2))\n",
    "plt.xlim(1, 16)\n",
    "plt.show()"
   ]
  },
  {
   "cell_type": "code",
   "execution_count": 17,
   "metadata": {
    "collapsed": false
   },
   "outputs": [
    {
     "data": {
      "image/png": "[encoded data removed]",
      "text/plain": [
       "<matplotlib.figure.Figure at 0xd6a0240>"
      ]
     },
     "metadata": {},
     "output_type": "display_data"
    }
   ],
   "source": [
    "g = sns.FacetGrid(mma, row='year', size=3, aspect=3, sharex=True, sharey=False)\n",
    "g = g.map(plt.hist, 'tests', bins=range(21))\n",
    "plt.xlim(0, 20)\n",
    "plt.xticks(range(21))\n",
    "plt.xlabel('# of Tests (unscaled)')\n",
    "plt.axvline(3, ls='--', color='white')\n",
    "plt.show()"
   ]
  },
  {
   "cell_type": "code",
   "execution_count": 18,
   "metadata": {
    "collapsed": false
   },
   "outputs": [
    {
     "data": {
      "image/png": "[encoded data removed]",
      "text/plain": [
       "<matplotlib.figure.Figure at 0xe258c18>"
      ]
     },
     "metadata": {},
     "output_type": "display_data"
    }
   ],
   "source": [
    "mma['scaled_tests'].plot.hist(figsize=(10,8), bins=20)\n",
    "plt.xlim(1, 20)\n",
    "plt.xticks(range(1,21))\n",
    "plt.show()"
   ]
  },
  {
   "cell_type": "code",
   "execution_count": 19,
   "metadata": {
    "collapsed": false
   },
   "outputs": [
    {
     "data": {
      "text/plain": [
       "year\n",
       "2015    1.983696\n",
       "2016    2.000000\n",
       "2017    3.000000\n",
       "2018    4.649682\n",
       "Name: scaled_tests, dtype: float64"
      ]
     },
     "execution_count": 19,
     "metadata": {},
     "output_type": "execute_result"
    }
   ],
   "source": [
    "mma['scaled_tests'].groupby(mma.year).agg(lambda x: np.percentile(x, q=100/3))"
   ]
  },
  {
   "cell_type": "code",
   "execution_count": 20,
   "metadata": {
    "collapsed": false
   },
   "outputs": [
    {
     "name": "stdout",
     "output_type": "stream",
     "text": [
      "<=1 tests: 0.22\n",
      "<=1 required tests: 0.66\n",
      "\n",
      "<=2 tests: 0.47\n",
      "<=2 required tests: 0.77\n",
      "\n",
      "<=3 tests: 0.66\n",
      "<=3 required tests: 0.83\n",
      "\n",
      "<=4 tests: 0.77\n",
      "<=4 required tests: 0.87\n",
      "\n",
      "<=5 tests: 0.83\n",
      "<=5 required tests: 0.9\n",
      "\n",
      "<=6 tests: 0.87\n",
      "<=6 required tests: 0.93\n",
      "\n",
      "<=7 tests: 0.9\n",
      "<=7 required tests: 0.95\n",
      "\n",
      "<=8 tests: 0.93\n",
      "<=8 required tests: 0.97\n",
      "\n",
      "<=9 tests: 0.95\n",
      "<=9 required tests: 0.98\n",
      "\n"
     ]
    }
   ],
   "source": [
    "rows = mma.shape[0]\n",
    "for i in range(1,10):\n",
    "    print('<={} tests: {}'.format(i, round(mma.loc[mma.tests<=i, :].shape[0]/rows, 2)))\n",
    "    print('<={} required tests: {}\\n'.format(i, round(mma.loc[mma.req_tests<=i, :]\\\n",
    "                                                      .shape[0]/rows, 2)))"
   ]
  },
  {
   "cell_type": "markdown",
   "metadata": {},
   "source": [
    "## Comparison w/ other sports"
   ]
  },
  {
   "cell_type": "code",
   "execution_count": 21,
   "metadata": {
    "collapsed": false
   },
   "outputs": [
    {
     "name": "stdout",
     "output_type": "stream",
     "text": [
      "                          mean   sum  len\n",
      "sport                                    \n",
      "Professional Boxing  11.134328   746   67\n",
      "Speedskating          2.888372   621  215\n",
      "Tennis                2.768293   227   82\n",
      "Swimming              2.653226  1974  744\n",
      "Biathlon              2.596154   135   52\n",
      "                        mean  sum  len\n",
      "sport                                 \n",
      "Field Hockey        1.045045  116  111\n",
      "Sailing             1.035088   59   57\n",
      "Water Skiing        1.023810   43   42\n",
      "Paralympic Fencing  1.000000    2    2\n",
      "Paralympic Boccia   1.000000    9    9\n"
     ]
    }
   ],
   "source": [
    "sports_means = sports['tests'].groupby(sports.sport).agg([np.mean, np.sum, len])\\\n",
    "    .sort_values('mean', ascending=False)\n",
    "    \n",
    "print(sports_means.head())\n",
    "print(sports_means.tail())"
   ]
  },
  {
   "cell_type": "code",
   "execution_count": null,
   "metadata": {
    "collapsed": true
   },
   "outputs": [],
   "source": []
  },
  {
   "cell_type": "code",
   "execution_count": null,
   "metadata": {
    "collapsed": true
   },
   "outputs": [],
   "source": []
  }
 ],
 "metadata": {
  "kernelspec": {
   "display_name": "Python 3",
   "language": "python",
   "name": "python3"
  },
  "language_info": {
   "codemirror_mode": {
    "name": "ipython",
    "version": 3
   },
   "file_extension": ".py",
   "mimetype": "text/x-python",
   "name": "python",
   "nbconvert_exporter": "python",
   "pygments_lexer": "ipython3",
   "version": "3.6.0"
  }
 },
 "nbformat": 4,
 "nbformat_minor": 2
}
