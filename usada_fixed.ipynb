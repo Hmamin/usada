{
 "cells": [
  {
   "cell_type": "code",
   "execution_count": 1,
   "metadata": {
    "collapsed": true
   },
   "outputs": [],
   "source": [
    "import pandas as pd\n",
    "import numpy as np\n",
    "import matplotlib.pyplot as plt\n",
    "import seaborn as sns\n",
    "import requests\n",
    "from bs4 import BeautifulSoup as bs\n",
    "import xml.etree.ElementTree as ET\n",
    "%matplotlib inline"
   ]
  },
  {
   "cell_type": "code",
   "execution_count": 2,
   "metadata": {
    "collapsed": true
   },
   "outputs": [],
   "source": [
    "url = 'https://www.usada.org/testing/results/athlete-test-history/'\n",
    "content = requests.get(url).content"
   ]
  },
  {
   "cell_type": "code",
   "execution_count": 3,
   "metadata": {
    "collapsed": true
   },
   "outputs": [],
   "source": [
    "soup = bs(content, 'lxml')"
   ]
  },
  {
   "cell_type": "code",
   "execution_count": 4,
   "metadata": {
    "collapsed": false
   },
   "outputs": [
    {
     "data": {
      "text/plain": [
       "[<select id=\"years\" name=\"years\" style=\"padding: 5px 30px 5px 15px;\"></select>,\n",
       " <select id=\"quarters\" name=\"quarters\" style=\"padding: 5px 30px 5px 15px;\"></select>,\n",
       " <select id=\"sports\" name=\"sports\"></select>]"
      ]
     },
     "execution_count": 4,
     "metadata": {},
     "output_type": "execute_result"
    }
   ],
   "source": [
    "bs_dropdowns = soup.select('form#searchForm select')\n",
    "bs_dropdowns"
   ]
  },
  {
   "cell_type": "code",
   "execution_count": 6,
   "metadata": {
    "collapsed": false
   },
   "outputs": [
    {
     "name": "stdout",
     "output_type": "stream",
     "text": [
      "<list_iterator object at 0x000001B8C52A57B8>\n",
      "<list_iterator object at 0x000001B8C52A57B8>\n",
      "<list_iterator object at 0x000001B8C52A57B8>\n"
     ]
    }
   ],
   "source": [
    "# options = []\\n\",\n",
    "# for dropdown in bs_dropdowns:\\n\",\n",
    "#     current = soup.select('#' + dropdown.get('id') + ' option')\\n\",\n",
    "#     options.append(current)\\n\",\n",
    "#     print(dropdown.get('id'))\\n\",\n",
    "# options\\n\",\n",
    "for dropdown in bs_dropdowns:\n",
    "    print(dropdown.children)"
   ]
  },
  {
   "cell_type": "code",
   "execution_count": 7,
   "metadata": {
    "collapsed": true
   },
   "outputs": [],
   "source": [
    "cookies = {\n",
    "    'devicePixelRatio': '1',\n",
    "    'wordfence_verifiedHuman': '7cf7ebfa5b2c11e4e5cab69f149eb138',\n",
    "    }\n",
    "\n",
    "headers = {\n",
    "    'Pragma': 'no-cache',\n",
    "    'DNT': '1',\n",
    "    'Accept-Encoding': 'gzip, deflate, br',\n",
    "    'Accept-Language': 'en-US,en;q=0.9',\n",
    "    'User-Agent': 'Mozilla/5.0 (Windows NT 10.0; Win64; x64) AppleWebKit/537.36 (KHTML, like Gecko) Chrome/65.0.3325.181 Safari/537.36',\n",
    "    'Content-Type': 'application/x-www-form-urlencoded',\n",
    "    'Accept': '*/*',\n",
    "    'Referer': 'https://www.usada.org/testing/results/athlete-test-history/',\n",
    "    'Connection': 'keep-alive',\n",
    "    'Cache-Control': 'no-cache',\n",
    "    }"
   ]
  },
  {
   "cell_type": "code",
   "execution_count": 8,
   "metadata": {
    "collapsed": true
   },
   "outputs": [],
   "source": [
    "response_2013 = requests.get(url, headers=headers, cookies=cookies)\n",
    "soup_2013 = bs(response_2013.content, 'lxml')"
   ]
  },
  {
   "cell_type": "code",
   "execution_count": null,
   "metadata": {
    "collapsed": true
   },
   "outputs": [],
   "source": [
    "url_root = 'https://www.usada.org/uploads/web_hist_files/xml/'\n",
    "years = list(range(2015,2019))\n",
    "\n",
    "urls = [url_root + str(yr) + 'all.xml' for yr in years]\n",
    "yr_bytes = [requests.get(u).content for u in urls]\n",
    "# bytes_2018 = requests.get(url_2018).content\n",
    "# xml_2018 = bytes_2018.decode('utf16')"
   ]
  },
  {
   "cell_type": "code",
   "execution_count": null,
   "metadata": {
    "collapsed": true
   },
   "outputs": [],
   "source": [
    "for y in yr_bytes:\n",
    "    print(y[:200])\n",
    "    print('\\\\n')"
   ]
  },
  {
   "cell_type": "code",
   "execution_count": null,
   "metadata": {
    "collapsed": true
   },
   "outputs": [],
   "source": [
    "parser = ET.XMLParser(recover = True)\n",
    "ET.fromstring(urls[0], parser=parser)"
   ]
  }
 ],
 "metadata": {
  "kernelspec": {
   "display_name": "Python 3",
   "language": "python",
   "name": "python3"
  },
  "language_info": {
   "codemirror_mode": {
    "name": "ipython",
    "version": 3
   },
   "file_extension": ".py",
   "mimetype": "text/x-python",
   "name": "python",
   "nbconvert_exporter": "python",
   "pygments_lexer": "ipython3",
   "version": "3.6.0"
  }
 },
 "nbformat": 4,
 "nbformat_minor": 2
}
