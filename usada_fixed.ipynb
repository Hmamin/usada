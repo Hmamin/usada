{
 "cells": [
  {
   "cell_type": "code",
   "execution_count": 169,
   "metadata": {
    "collapsed": false
   },
   "outputs": [],
   "source": [
    "from pprint import pprint\n",
    "import datetime\n",
    "import pandas as pd\n",
    "import numpy as np\n",
    "import matplotlib.pyplot as plt\n",
    "import matplotlib.style as style\n",
    "import seaborn as sns\n",
    "import requests\n",
    "from bs4 import BeautifulSoup as bs, SoupStrainer, Doctype\n",
    "import xml.etree.ElementTree as ET\n",
    "from itertools import chain\n",
    "%matplotlib inline\n",
    "style.use('fivethirtyeight')"
   ]
  },
  {
   "cell_type": "markdown",
   "metadata": {},
   "source": [
    "## Load XML data"
   ]
  },
  {
   "cell_type": "code",
   "execution_count": 2,
   "metadata": {
    "collapsed": true
   },
   "outputs": [],
   "source": [
    "url_root = 'https://www.usada.org/uploads/web_hist_files/xml/'\n",
    "years = list(range(2015,2019))\n",
    "\n",
    "urls = [url_root + str(yr) + 'all.xml' for yr in years]\n",
    "yr_bytes = [requests.get(u).content for u in urls]"
   ]
  },
  {
   "cell_type": "code",
   "execution_count": 3,
   "metadata": {
    "collapsed": false
   },
   "outputs": [
    {
     "name": "stdout",
     "output_type": "stream",
     "text": [
      "['https://www.usada.org/uploads/web_hist_files/xml/2015all.xml', 'https://www.usada.org/uploads/web_hist_files/xml/2016all.xml', 'https://www.usada.org/uploads/web_hist_files/xml/2017all.xml', 'https://www.usada.org/uploads/web_hist_files/xml/2018all.xml']\n"
     ]
    }
   ],
   "source": [
    "print(urls)"
   ]
  },
  {
   "cell_type": "code",
   "execution_count": 4,
   "metadata": {
    "collapsed": false
   },
   "outputs": [
    {
     "name": "stdout",
     "output_type": "stream",
     "text": [
      "b'<TestHistory><TREC><YR>2015</YR><QTR>All</QTR><AName>Madeline Aaron</AName><NumTests>2</NumTests><Sport>Figure Skating</Sport><AFN>Madeline</AFN><ALN>Aaron</ALN></TREC><TREC><YR>2015</YR><QTR>All</QTR'\n",
      "\n",
      "\n",
      "\n",
      "b'\\xff\\xfe<\\x00T\\x00e\\x00s\\x00t\\x00H\\x00i\\x00s\\x00t\\x00o\\x00r\\x00y\\x00>\\x00<\\x00T\\x00R\\x00E\\x00C\\x00>\\x00<\\x00Y\\x00R\\x00>\\x002\\x000\\x001\\x006\\x00<\\x00/\\x00Y\\x00R\\x00>\\x00<\\x00Q\\x00T\\x00R\\x00>\\x00A\\x00l\\x00l\\x00<\\x00/\\x00Q\\x00T\\x00R\\x00>\\x00<\\x00A\\x00N\\x00a\\x00m\\x00e\\x00>\\x00J\\x00e\\x00s\\x00s\\x00i\\x00c\\x00a\\x00 \\x00(\\x00P\\x00i\\x00x\\x00l\\x00e\\x00r\\x00)\\x00 \\x00T\\x00e\\x00b\\x00o\\x00<\\x00/\\x00A\\x00N\\x00a\\x00m\\x00e\\x00>\\x00<\\x00N\\x00u\\x00m\\x00T\\x00e\\x00s\\x00t\\x00s\\x00>\\x001\\x00<\\x00/\\x00N\\x00u\\x00m\\x00T\\x00'\n",
      "\n",
      "\n",
      "\n",
      "b'\\xff\\xfe<\\x00T\\x00e\\x00s\\x00t\\x00H\\x00i\\x00s\\x00t\\x00o\\x00r\\x00y\\x00>\\x00<\\x00T\\x00R\\x00E\\x00C\\x00>\\x00<\\x00Y\\x00R\\x00>\\x002\\x000\\x001\\x007\\x00<\\x00/\\x00Y\\x00R\\x00>\\x00<\\x00Q\\x00T\\x00R\\x00>\\x00A\\x00l\\x00l\\x00<\\x00/\\x00Q\\x00T\\x00R\\x00>\\x00<\\x00A\\x00N\\x00a\\x00m\\x00e\\x00>\\x00M\\x00a\\x00x\\x00 \\x00A\\x00a\\x00r\\x00o\\x00n\\x00<\\x00/\\x00A\\x00N\\x00a\\x00m\\x00e\\x00>\\x00<\\x00N\\x00u\\x00m\\x00T\\x00e\\x00s\\x00t\\x00s\\x00>\\x003\\x00<\\x00/\\x00N\\x00u\\x00m\\x00T\\x00e\\x00s\\x00t\\x00s\\x00>\\x00<\\x00S\\x00p\\x00o\\x00r\\x00t\\x00>\\x00'\n",
      "\n",
      "\n",
      "\n",
      "b'\\xff\\xfe<\\x00T\\x00e\\x00s\\x00t\\x00H\\x00i\\x00s\\x00t\\x00o\\x00r\\x00y\\x00>\\x00<\\x00T\\x00R\\x00E\\x00C\\x00>\\x00<\\x00Y\\x00R\\x00>\\x002\\x000\\x001\\x008\\x00<\\x00/\\x00Y\\x00R\\x00>\\x00<\\x00Q\\x00T\\x00R\\x00>\\x00A\\x00l\\x00l\\x00<\\x00/\\x00Q\\x00T\\x00R\\x00>\\x00<\\x00A\\x00N\\x00a\\x00m\\x00e\\x00>\\x00K\\x00a\\x00i\\x00t\\x00l\\x00i\\x00n\\x00 \\x00(\\x00A\\x00n\\x00t\\x00o\\x00n\\x00n\\x00e\\x00a\\x00u\\x00)\\x00 \\x00K\\x00e\\x00o\\x00u\\x00g\\x00h\\x00<\\x00/\\x00A\\x00N\\x00a\\x00m\\x00e\\x00>\\x00<\\x00N\\x00u\\x00m\\x00T\\x00e\\x00s\\x00t\\x00s\\x00>\\x001\\x00<\\x00'\n",
      "\n",
      "\n",
      "\n"
     ]
    }
   ],
   "source": [
    "for y in yr_bytes:\n",
    "    print(y[:200])\n",
    "    print('\\n\\n')"
   ]
  },
  {
   "cell_type": "markdown",
   "metadata": {},
   "source": [
    "## Parsing XML to DF"
   ]
  },
  {
   "cell_type": "code",
   "execution_count": 5,
   "metadata": {
    "collapsed": false
   },
   "outputs": [],
   "source": [
    "roots = {}\n",
    "athletes = {}\n",
    "dfs = {}\n",
    "\n",
    "# Create dict of xml root elements for each year. \n",
    "for i, y in enumerate(years):\n",
    "    roots[y] = ET.fromstring(yr_bytes[i])\n",
    "    athletes[y] = []\n",
    "    \n",
    "    # Filter by sport to create list of athlete dicts for each year.\n",
    "    for child in roots[y]:\n",
    "        player_dict = {\n",
    "            'year': child[0].text,\n",
    "            'sport': child[4].text,\n",
    "            'fname': child[5].text,\n",
    "            'lname': child[6].text,\n",
    "            'tests': child[3].text\n",
    "        }\n",
    "        athletes[y].append(player_dict)\n",
    "        \n",
    "    # Create dataframe for each year\n",
    "    dfs[y] = pd.DataFrame(athletes[y])\n",
    "    dfs[y] = dfs[y].astype({'tests': 'int64', 'year': 'int64'})"
   ]
  },
  {
   "cell_type": "code",
   "execution_count": 6,
   "metadata": {
    "collapsed": false
   },
   "outputs": [
    {
     "name": "stdout",
     "output_type": "stream",
     "text": [
      "      fname    lname              sport  tests  year\n",
      "0  Madeline    Aaron     Figure Skating      2  2015\n",
      "1       Max    Aaron     Figure Skating      3  2015\n",
      "2   Stephen     Abas          Wrestling      1  2015\n",
      "3     Mason  Abbiate  Paralympic Soccer      1  2015\n",
      "4    Jeremy   Abbott     Figure Skating      1  2015 \n",
      "\n",
      "      fname          lname              sport  tests  year\n",
      "0   Jessica  (Pixler) Tebo    Track and Field      1  2016\n",
      "1  Madeline          Aaron     Figure Skating      1  2016\n",
      "2       Max          Aaron     Figure Skating      2  2016\n",
      "3     Mason        Abbiate  Paralympic Soccer      1  2016\n",
      "4      Mara         Abbott            Cycling      8  2016 \n",
      "\n",
      "       fname         lname                 sport  tests  year\n",
      "0        Max         Aaron        Figure Skating      3  2017\n",
      "1       Mara        Abbott               Cycling      5  2017\n",
      "2     Taylor        Abbott              Swimming      2  2017\n",
      "3  Abdihakim    Abdirahman       Track and Field     10  2017\n",
      "4     Hakeem  Abdul Saboor  Bobsled and Skeleton      1  2017 \n",
      "\n",
      "       fname               lname               sport  tests  year\n",
      "0    Kaitlin  (Antonneau) Keough             Cycling      1  2018\n",
      "1  Contender                   1  Mixed Martial Arts      2  2018\n",
      "2      Mason             Abbiate   Paralympic Soccer      1  2018\n",
      "3       Mara              Abbott             Cycling      1  2018\n",
      "4     Taylor              Abbott            Swimming      1  2018 \n",
      "\n"
     ]
    }
   ],
   "source": [
    "for df in dfs.values():\n",
    "    print(df.head(), '\\n')"
   ]
  },
  {
   "cell_type": "code",
   "execution_count": 7,
   "metadata": {
    "collapsed": false
   },
   "outputs": [
    {
     "name": "stdout",
     "output_type": "stream",
     "text": [
      "        fname      lname               sport  tests  year\n",
      "2564    Ronda     Rousey  Mixed Martial Arts      8  2015\n",
      "29       Jose       Aldo  Mixed Martial Arts      8  2015\n",
      "1990    Conor   McGregor  Mixed Martial Arts      8  2015\n",
      "1282      Dan  Henderson  Mixed Martial Arts      7  2015\n",
      "1371    Holly       Holm  Mixed Martial Arts      7  2015\n",
      "647   Antonio   Da Silva  Mixed Martial Arts      7  2015\n",
      "2536     Yoel     Romero  Mixed Martial Arts      6  2015\n",
      "2509     Luke   Rockhold  Mixed Martial Arts      6  2015\n",
      "774    Rafael  Dos Anjos  Mixed Martial Arts      6  2015\n",
      "184     Vitor    Belfort  Mixed Martial Arts      6  2015 \n",
      "\n",
      "       fname      lname               sport  tests  year\n",
      "24     Omari   Akhmedov  Mixed Martial Arts      1  2015\n",
      "2169     Roy     Nelson  Mixed Martial Arts      1  2015\n",
      "2121  Gegard    Mousasi  Mixed Martial Arts      1  2015\n",
      "2083  Takeya   Mizugaki  Mixed Martial Arts      1  2015\n",
      "1967  Tamdan    McCrory  Mixed Martial Arts      1  2015\n",
      "1931   Jorge   Masvidal  Mixed Martial Arts      1  2015\n",
      "1904    Nate  Marquardt  Mixed Martial Arts      1  2015\n",
      "1868   Fabio  Maldonado  Mixed Martial Arts      1  2015\n",
      "1863  Ruslan  Magomedov  Mixed Martial Arts      1  2015\n",
      "1853    Reza     Madadi  Mixed Martial Arts      1  2015 \n",
      "\n",
      "\n",
      "         fname      lname               sport  tests  year\n",
      "3145  Anderson      Silva  Mixed Martial Arts     15  2016\n",
      "65       Eddie    Alvarez  Mixed Martial Arts     14  2016\n",
      "732   Dominick       Cruz  Mixed Martial Arts     14  2016\n",
      "1482     Johny  Hendricks  Mixed Martial Arts     13  2016\n",
      "200       Josh    Barnett  Mixed Martial Arts     13  2016\n",
      "3743     Tyron    Woodley  Mixed Martial Arts     12  2016\n",
      "2165      Nate  Marquardt  Mixed Martial Arts     12  2016\n",
      "3381    Miesha       Tate  Mixed Martial Arts     12  2016\n",
      "3429   Stephen   Thompson  Mixed Martial Arts     12  2016\n",
      "2352     Stipe     Miocic  Mixed Martial Arts     11  2016 \n",
      "\n",
      "           fname            lname               sport  tests  year\n",
      "1918        Ryan          LaFlare  Mixed Martial Arts      1  2016\n",
      "1472      Marcin             Held  Mixed Martial Arts      1  2016\n",
      "2611        Alan          Patrick  Mixed Martial Arts      1  2016\n",
      "2634       Filip            Pejic  Mixed Martial Arts      1  2016\n",
      "550         Alex         Chambers  Mixed Martial Arts      1  2016\n",
      "2374  Erick Omar          Montano  Mixed Martial Arts      1  2016\n",
      "2982      Justin            Salas  Mixed Martial Arts      1  2016\n",
      "537    Godofredo           Castro  Mixed Martial Arts      1  2016\n",
      "1505      Alvaro  Herrera Mendoza  Mixed Martial Arts      1  2016\n",
      "1509       Clint           Hester  Mixed Martial Arts      1  2016 \n",
      "\n",
      "\n",
      "          fname      lname               sport  tests  year\n",
      "1480      Holly       Holm  Mixed Martial Arts     15  2017\n",
      "832          TJ  Dillashaw  Mixed Martial Arts     14  2017\n",
      "1663  Cristiane    Justino  Mixed Martial Arts     14  2017\n",
      "3241      Tecia     Torres  Mixed Martial Arts     14  2017\n",
      "2976   Anderson      Silva  Mixed Martial Arts     13  2017\n",
      "660      Daniel    Cormier  Mixed Martial Arts     13  2017\n",
      "233       Vitor    Belfort  Mixed Martial Arts     13  2017\n",
      "3093     Jeremy   Stephens  Mixed Martial Arts     13  2017\n",
      "324         Ray       Borg  Mixed Martial Arts     13  2017\n",
      "2220      Stipe     Miocic  Mixed Martial Arts     12  2017 \n",
      "\n",
      "        fname                       lname               sport  tests  year\n",
      "5      Shamil                Abdurakhimov  Mixed Martial Arts      1  2017\n",
      "2335      Roy                      Nelson  Mixed Martial Arts      1  2017\n",
      "845     Shana                      Dobson  Mixed Martial Arts      1  2017\n",
      "2359     Kyle                        Noke  Mixed Martial Arts      1  2017\n",
      "2409   Yushin                       Okami  Mixed Martial Arts      1  2017\n",
      "778    Talita  de Oliveira Neves Bernardo  Mixed Martial Arts      1  2017\n",
      "2414   Michal                Oleksiejczuk  Mixed Martial Arts      1  2017\n",
      "2438  Rachael             Ostovich-Berdon  Mixed Martial Arts      1  2017\n",
      "773      Mike                 De La Torre  Mixed Martial Arts      1  2017\n",
      "772   Montana                  De La Rosa  Mixed Martial Arts      1  2017 \n",
      "\n",
      "\n",
      "          fname        lname               sport  tests  year\n",
      "646      Rashad        Evans  Mixed Martial Arts     10  2018\n",
      "135       Edson      Barboza  Mixed Martial Arts      7  2018\n",
      "1773       Yoel       Romero  Mixed Martial Arts      7  2018\n",
      "609       Frank        Edgar  Mixed Martial Arts      6  2018\n",
      "572      Rafael    Dos Anjos  Mixed Martial Arts      6  2018\n",
      "2248      Tyron      Woodley  Mixed Martial Arts      6  2018\n",
      "1799     Ovince  Saint Preux  Mixed Martial Arts      5  2018\n",
      "1629     Dustin      Poirier  Mixed Martial Arts      5  2018\n",
      "1517     Amanda        Nunes  Mixed Martial Arts      5  2018\n",
      "1054  Cristiane      Justino  Mixed Martial Arts      5  2018 \n",
      "\n",
      "        fname            lname               sport  tests  year\n",
      "1048     Alan           Jouban  Mixed Martial Arts      1  2018\n",
      "1743    Danny          Roberts  Mixed Martial Arts      1  2018\n",
      "908     Johny        Hendricks  Mixed Martial Arts      1  2018\n",
      "900    Marcin             Held  Mixed Martial Arts      1  2018\n",
      "1123    Syuri            Kondo  Mixed Martial Arts      1  2018\n",
      "475       Ion         Cutelaba  Mixed Martial Arts      1  2018\n",
      "480   Sheymon  Da Silva Moraes  Mixed Martial Arts      1  2018\n",
      "487     Salim   Damian Touahri  Mixed Martial Arts      1  2018\n",
      "489    Jarjis            Danho  Mixed Martial Arts      1  2018\n",
      "493    Beneil          Dariush  Mixed Martial Arts      1  2018 \n",
      "\n",
      "\n"
     ]
    }
   ],
   "source": [
    "for d in dfs.values():\n",
    "    print(d.loc[d.sport == 'Mixed Martial Arts', :].sort_values('tests', ascending=False).head(10), '\\n')\n",
    "    print(d.loc[d.sport == 'Mixed Martial Arts', :].sort_values('tests', ascending=True).head(10), '\\n\\n')"
   ]
  },
  {
   "cell_type": "code",
   "execution_count": 8,
   "metadata": {
    "collapsed": false
   },
   "outputs": [],
   "source": [
    "# Filter to mma only and combine into 1 df\n",
    "mma = pd.concat([df.loc[df.sport=='Mixed Martial Arts',:] for df in dfs.values()], axis=0)\\\n",
    "    .drop('sport', axis=1)\n",
    "sports = pd.concat([df.loc[df.sport!='Mixed Martial Arts',:] for df in dfs.values()], axis=0)"
   ]
  },
  {
   "cell_type": "code",
   "execution_count": 9,
   "metadata": {
    "collapsed": true
   },
   "outputs": [],
   "source": [
    "def partial_year_percent(cell):\n",
    "    '''Calculate % of year under USADA since some are <365 (first year of program\n",
    "    and current year in progress).'''\n",
    "    if cell == 2015:\n",
    "        years = (datetime.date(2016, 1, 1) - start_date).days / 365\n",
    "    elif cell == end_date.year:\n",
    "        years = (end_date - datetime.date(end_date.year-1, 12, 31)).days / 365\n",
    "    else:\n",
    "        years = 1\n",
    "    return years"
   ]
  },
  {
   "cell_type": "code",
   "execution_count": 10,
   "metadata": {
    "collapsed": false
   },
   "outputs": [],
   "source": [
    "start_date = datetime.date(2015, 7, 1)\n",
    "end_date = datetime.date.today()\n",
    "mma['year_percent'] = mma['year'].apply(partial_year_percent)"
   ]
  },
  {
   "cell_type": "code",
   "execution_count": 11,
   "metadata": {
    "collapsed": false
   },
   "outputs": [],
   "source": [
    "mma['req_tests'] = np.maximum(mma['tests'] - 2, 0)\n",
    "mma['scaled_tests'] = mma['tests'] / mma['year_percent']\n",
    "mma['scaled_req_tests'] = np.maximum(mma['scaled_tests'] - 2, 0)\n",
    "mma['name'] = mma['fname'] + ' ' + mma['lname']"
   ]
  },
  {
   "cell_type": "code",
   "execution_count": 12,
   "metadata": {
    "collapsed": false
   },
   "outputs": [
    {
     "name": "stdout",
     "output_type": "stream",
     "text": [
      "     fname     lname  tests  year  year_percent  req_tests  scaled_tests  \\\n",
      "24   Omari  Akhmedov      1  2015       0.50411          0      1.983696   \n",
      "29    Jose      Aldo      8  2015       0.50411          6     15.869565   \n",
      "41   Eddie   Alvarez      2  2015       0.50411          0      3.967391   \n",
      "44  Thiago     Alves      5  2015       0.50411          3      9.918478   \n",
      "50   Corey  Anderson      1  2015       0.50411          0      1.983696   \n",
      "\n",
      "    scaled_req_tests            name  \n",
      "24          0.000000  Omari Akhmedov  \n",
      "29         13.869565       Jose Aldo  \n",
      "41          1.967391   Eddie Alvarez  \n",
      "44          7.918478    Thiago Alves  \n",
      "50          0.000000  Corey Anderson  \n",
      "      fname    lname              sport  tests  year\n",
      "0  Madeline    Aaron     Figure Skating      2  2015\n",
      "1       Max    Aaron     Figure Skating      3  2015\n",
      "2   Stephen     Abas          Wrestling      1  2015\n",
      "3     Mason  Abbiate  Paralympic Soccer      1  2015\n",
      "4    Jeremy   Abbott     Figure Skating      1  2015\n"
     ]
    }
   ],
   "source": [
    "print(mma.head())\n",
    "print(sports.head())"
   ]
  },
  {
   "cell_type": "code",
   "execution_count": 52,
   "metadata": {
    "collapsed": false
   },
   "outputs": [
    {
     "data": {
      "text/html": [
       "<div>\n",
       "<style>\n",
       "    .dataframe thead tr:only-child th {\n",
       "        text-align: right;\n",
       "    }\n",
       "\n",
       "    .dataframe thead th {\n",
       "        text-align: left;\n",
       "    }\n",
       "\n",
       "    .dataframe tbody tr th {\n",
       "        vertical-align: top;\n",
       "    }\n",
       "</style>\n",
       "<table border=\"1\" class=\"dataframe\">\n",
       "  <thead>\n",
       "    <tr>\n",
       "      <th></th>\n",
       "      <th>name</th>\n",
       "      <th>fname</th>\n",
       "      <th>lname</th>\n",
       "      <th colspan=\"4\" halign=\"left\">req_tests</th>\n",
       "      <th colspan=\"4\" halign=\"left\">scaled_req_tests</th>\n",
       "      <th colspan=\"4\" halign=\"left\">scaled_tests</th>\n",
       "      <th colspan=\"4\" halign=\"left\">tests</th>\n",
       "    </tr>\n",
       "    <tr>\n",
       "      <th>year</th>\n",
       "      <th></th>\n",
       "      <th></th>\n",
       "      <th></th>\n",
       "      <th>2015</th>\n",
       "      <th>2016</th>\n",
       "      <th>2017</th>\n",
       "      <th>2018</th>\n",
       "      <th>2015</th>\n",
       "      <th>2016</th>\n",
       "      <th>2017</th>\n",
       "      <th>2018</th>\n",
       "      <th>2015</th>\n",
       "      <th>2016</th>\n",
       "      <th>2017</th>\n",
       "      <th>2018</th>\n",
       "      <th>2015</th>\n",
       "      <th>2016</th>\n",
       "      <th>2017</th>\n",
       "      <th>2018</th>\n",
       "    </tr>\n",
       "  </thead>\n",
       "  <tbody>\n",
       "    <tr>\n",
       "      <th>0</th>\n",
       "      <td>Abdul Razak Alhassan</td>\n",
       "      <td>Abdul</td>\n",
       "      <td>Razak Alhassan</td>\n",
       "      <td>NaN</td>\n",
       "      <td>NaN</td>\n",
       "      <td>2.0</td>\n",
       "      <td>0.0</td>\n",
       "      <td>NaN</td>\n",
       "      <td>NaN</td>\n",
       "      <td>2.0</td>\n",
       "      <td>2.506173</td>\n",
       "      <td>NaN</td>\n",
       "      <td>NaN</td>\n",
       "      <td>4.0</td>\n",
       "      <td>4.506173</td>\n",
       "      <td>NaN</td>\n",
       "      <td>NaN</td>\n",
       "      <td>4.0</td>\n",
       "      <td>2.0</td>\n",
       "    </tr>\n",
       "    <tr>\n",
       "      <th>1</th>\n",
       "      <td>Abdul-Kerim Edilov</td>\n",
       "      <td>Abdul-Kerim</td>\n",
       "      <td>Edilov</td>\n",
       "      <td>NaN</td>\n",
       "      <td>0.0</td>\n",
       "      <td>2.0</td>\n",
       "      <td>NaN</td>\n",
       "      <td>NaN</td>\n",
       "      <td>0.0</td>\n",
       "      <td>2.0</td>\n",
       "      <td>NaN</td>\n",
       "      <td>NaN</td>\n",
       "      <td>2.0</td>\n",
       "      <td>4.0</td>\n",
       "      <td>NaN</td>\n",
       "      <td>NaN</td>\n",
       "      <td>2.0</td>\n",
       "      <td>4.0</td>\n",
       "      <td>NaN</td>\n",
       "    </tr>\n",
       "    <tr>\n",
       "      <th>2</th>\n",
       "      <td>Abel Trujillo</td>\n",
       "      <td>Abel</td>\n",
       "      <td>Trujillo</td>\n",
       "      <td>2.0</td>\n",
       "      <td>4.0</td>\n",
       "      <td>1.0</td>\n",
       "      <td>NaN</td>\n",
       "      <td>5.934783</td>\n",
       "      <td>4.0</td>\n",
       "      <td>1.0</td>\n",
       "      <td>NaN</td>\n",
       "      <td>7.934783</td>\n",
       "      <td>6.0</td>\n",
       "      <td>3.0</td>\n",
       "      <td>NaN</td>\n",
       "      <td>4.0</td>\n",
       "      <td>6.0</td>\n",
       "      <td>3.0</td>\n",
       "      <td>NaN</td>\n",
       "    </tr>\n",
       "    <tr>\n",
       "      <th>3</th>\n",
       "      <td>Abu Azaitar</td>\n",
       "      <td>Abu</td>\n",
       "      <td>Azaitar</td>\n",
       "      <td>NaN</td>\n",
       "      <td>NaN</td>\n",
       "      <td>NaN</td>\n",
       "      <td>0.0</td>\n",
       "      <td>NaN</td>\n",
       "      <td>NaN</td>\n",
       "      <td>NaN</td>\n",
       "      <td>0.253086</td>\n",
       "      <td>NaN</td>\n",
       "      <td>NaN</td>\n",
       "      <td>NaN</td>\n",
       "      <td>2.253086</td>\n",
       "      <td>NaN</td>\n",
       "      <td>NaN</td>\n",
       "      <td>NaN</td>\n",
       "      <td>1.0</td>\n",
       "    </tr>\n",
       "    <tr>\n",
       "      <th>4</th>\n",
       "      <td>Adam Hunter</td>\n",
       "      <td>Adam</td>\n",
       "      <td>Hunter</td>\n",
       "      <td>NaN</td>\n",
       "      <td>0.0</td>\n",
       "      <td>NaN</td>\n",
       "      <td>NaN</td>\n",
       "      <td>NaN</td>\n",
       "      <td>0.0</td>\n",
       "      <td>NaN</td>\n",
       "      <td>NaN</td>\n",
       "      <td>NaN</td>\n",
       "      <td>2.0</td>\n",
       "      <td>NaN</td>\n",
       "      <td>NaN</td>\n",
       "      <td>NaN</td>\n",
       "      <td>2.0</td>\n",
       "      <td>NaN</td>\n",
       "      <td>NaN</td>\n",
       "    </tr>\n",
       "  </tbody>\n",
       "</table>\n",
       "</div>"
      ],
      "text/plain": [
       "                      name        fname           lname req_tests            \\\n",
       "year                                                         2015 2016 2017   \n",
       "0     Abdul Razak Alhassan        Abdul  Razak Alhassan       NaN  NaN  2.0   \n",
       "1       Abdul-Kerim Edilov  Abdul-Kerim          Edilov       NaN  0.0  2.0   \n",
       "2            Abel Trujillo         Abel        Trujillo       2.0  4.0  1.0   \n",
       "3              Abu Azaitar          Abu         Azaitar       NaN  NaN  NaN   \n",
       "4              Adam Hunter         Adam          Hunter       NaN  0.0  NaN   \n",
       "\n",
       "          scaled_req_tests                     scaled_tests            \\\n",
       "year 2018             2015 2016 2017      2018         2015 2016 2017   \n",
       "0     0.0              NaN  NaN  2.0  2.506173          NaN  NaN  4.0   \n",
       "1     NaN              NaN  0.0  2.0       NaN          NaN  2.0  4.0   \n",
       "2     NaN         5.934783  4.0  1.0       NaN     7.934783  6.0  3.0   \n",
       "3     0.0              NaN  NaN  NaN  0.253086          NaN  NaN  NaN   \n",
       "4     NaN              NaN  0.0  NaN       NaN          NaN  2.0  NaN   \n",
       "\n",
       "               tests                 \n",
       "year      2018  2015 2016 2017 2018  \n",
       "0     4.506173   NaN  NaN  4.0  2.0  \n",
       "1          NaN   NaN  2.0  4.0  NaN  \n",
       "2          NaN   4.0  6.0  3.0  NaN  \n",
       "3     2.253086   NaN  NaN  NaN  1.0  \n",
       "4          NaN   NaN  2.0  NaN  NaN  "
      ]
     },
     "execution_count": 52,
     "metadata": {},
     "output_type": "execute_result"
    }
   ],
   "source": [
    "# Spread columns into new df (experimenting).\n",
    "mma_spread = mma.pivot_table(index=['name', 'fname', 'lname'], columns='year',\n",
    "     values=['tests', 'scaled_tests', 'req_tests', 'scaled_req_tests']).reset_index()\n",
    "mma_spread.head()"
   ]
  },
  {
   "cell_type": "code",
   "execution_count": 14,
   "metadata": {
    "collapsed": false
   },
   "outputs": [
    {
     "name": "stdout",
     "output_type": "stream",
     "text": [
      "12.84%\n"
     ]
    }
   ],
   "source": [
    "# Fighters tested at least once each year since start of program.\n",
    "all_years = mma_spread.loc[mma_spread.tests.isnull().sum(axis=1) == 0][['name', 'tests']]\n",
    "\n",
    "print(str(round(100 * all_years.shape[0] / mma_spread.shape[0], 2)) + '%')"
   ]
  },
  {
   "cell_type": "code",
   "execution_count": 53,
   "metadata": {
    "collapsed": false
   },
   "outputs": [
    {
     "name": "stdout",
     "output_type": "stream",
     "text": [
      "MultiIndex(levels=[['req_tests', 'scaled_req_tests', 'scaled_tests', 'tests', 'lname', 'fname', 'name'], [2015, 2016, 2017, 2018, '']],\n",
      "           labels=[[6, 5, 4, 0, 0, 0, 0, 1, 1, 1, 1, 2, 2, 2, 2, 3, 3, 3, 3], [4, 4, 4, 0, 1, 2, 3, 0, 1, 2, 3, 0, 1, 2, 3, 0, 1, 2, 3]],\n",
      "           names=[None, 'year'])\n",
      "[('name', '') ('fname', '') ('lname', '') ('req_tests', 2015)\n",
      " ('req_tests', 2016) ('req_tests', 2017) ('req_tests', 2018)\n",
      " ('scaled_req_tests', 2015) ('scaled_req_tests', 2016)\n",
      " ('scaled_req_tests', 2017) ('scaled_req_tests', 2018)\n",
      " ('scaled_tests', 2015) ('scaled_tests', 2016) ('scaled_tests', 2017)\n",
      " ('scaled_tests', 2018) ('tests', 2015) ('tests', 2016) ('tests', 2017)\n",
      " ('tests', 2018)]\n"
     ]
    }
   ],
   "source": [
    "print(mma_spread.columns)\n",
    "print(mma_spread.columns.values)"
   ]
  },
  {
   "cell_type": "code",
   "execution_count": 55,
   "metadata": {
    "collapsed": false
   },
   "outputs": [
    {
     "data": {
      "text/html": [
       "<div>\n",
       "<style>\n",
       "    .dataframe thead tr:only-child th {\n",
       "        text-align: right;\n",
       "    }\n",
       "\n",
       "    .dataframe thead th {\n",
       "        text-align: left;\n",
       "    }\n",
       "\n",
       "    .dataframe tbody tr th {\n",
       "        vertical-align: top;\n",
       "    }\n",
       "</style>\n",
       "<table border=\"1\" class=\"dataframe\">\n",
       "  <thead>\n",
       "    <tr style=\"text-align: right;\">\n",
       "      <th></th>\n",
       "      <th>name</th>\n",
       "      <th>fname</th>\n",
       "      <th>lname</th>\n",
       "      <th>req_tests_15</th>\n",
       "      <th>req_tests_16</th>\n",
       "      <th>req_tests_17</th>\n",
       "      <th>req_tests_18</th>\n",
       "      <th>scaled_req_tests_15</th>\n",
       "      <th>scaled_req_tests_16</th>\n",
       "      <th>scaled_req_tests_17</th>\n",
       "      <th>scaled_req_tests_18</th>\n",
       "      <th>scaled_tests_15</th>\n",
       "      <th>scaled_tests_16</th>\n",
       "      <th>scaled_tests_17</th>\n",
       "      <th>scaled_tests_18</th>\n",
       "      <th>tests_15</th>\n",
       "      <th>tests_16</th>\n",
       "      <th>tests_17</th>\n",
       "      <th>tests_18</th>\n",
       "    </tr>\n",
       "  </thead>\n",
       "  <tbody>\n",
       "    <tr>\n",
       "      <th>0</th>\n",
       "      <td>Abdul Razak Alhassan</td>\n",
       "      <td>Abdul</td>\n",
       "      <td>Razak Alhassan</td>\n",
       "      <td>NaN</td>\n",
       "      <td>NaN</td>\n",
       "      <td>2.0</td>\n",
       "      <td>0.0</td>\n",
       "      <td>NaN</td>\n",
       "      <td>NaN</td>\n",
       "      <td>2.0</td>\n",
       "      <td>2.506173</td>\n",
       "      <td>NaN</td>\n",
       "      <td>NaN</td>\n",
       "      <td>4.0</td>\n",
       "      <td>4.506173</td>\n",
       "      <td>NaN</td>\n",
       "      <td>NaN</td>\n",
       "      <td>4.0</td>\n",
       "      <td>2.0</td>\n",
       "    </tr>\n",
       "    <tr>\n",
       "      <th>1</th>\n",
       "      <td>Abdul-Kerim Edilov</td>\n",
       "      <td>Abdul-Kerim</td>\n",
       "      <td>Edilov</td>\n",
       "      <td>NaN</td>\n",
       "      <td>0.0</td>\n",
       "      <td>2.0</td>\n",
       "      <td>NaN</td>\n",
       "      <td>NaN</td>\n",
       "      <td>0.0</td>\n",
       "      <td>2.0</td>\n",
       "      <td>NaN</td>\n",
       "      <td>NaN</td>\n",
       "      <td>2.0</td>\n",
       "      <td>4.0</td>\n",
       "      <td>NaN</td>\n",
       "      <td>NaN</td>\n",
       "      <td>2.0</td>\n",
       "      <td>4.0</td>\n",
       "      <td>NaN</td>\n",
       "    </tr>\n",
       "    <tr>\n",
       "      <th>2</th>\n",
       "      <td>Abel Trujillo</td>\n",
       "      <td>Abel</td>\n",
       "      <td>Trujillo</td>\n",
       "      <td>2.0</td>\n",
       "      <td>4.0</td>\n",
       "      <td>1.0</td>\n",
       "      <td>NaN</td>\n",
       "      <td>5.934783</td>\n",
       "      <td>4.0</td>\n",
       "      <td>1.0</td>\n",
       "      <td>NaN</td>\n",
       "      <td>7.934783</td>\n",
       "      <td>6.0</td>\n",
       "      <td>3.0</td>\n",
       "      <td>NaN</td>\n",
       "      <td>4.0</td>\n",
       "      <td>6.0</td>\n",
       "      <td>3.0</td>\n",
       "      <td>NaN</td>\n",
       "    </tr>\n",
       "    <tr>\n",
       "      <th>3</th>\n",
       "      <td>Abu Azaitar</td>\n",
       "      <td>Abu</td>\n",
       "      <td>Azaitar</td>\n",
       "      <td>NaN</td>\n",
       "      <td>NaN</td>\n",
       "      <td>NaN</td>\n",
       "      <td>0.0</td>\n",
       "      <td>NaN</td>\n",
       "      <td>NaN</td>\n",
       "      <td>NaN</td>\n",
       "      <td>0.253086</td>\n",
       "      <td>NaN</td>\n",
       "      <td>NaN</td>\n",
       "      <td>NaN</td>\n",
       "      <td>2.253086</td>\n",
       "      <td>NaN</td>\n",
       "      <td>NaN</td>\n",
       "      <td>NaN</td>\n",
       "      <td>1.0</td>\n",
       "    </tr>\n",
       "    <tr>\n",
       "      <th>4</th>\n",
       "      <td>Adam Hunter</td>\n",
       "      <td>Adam</td>\n",
       "      <td>Hunter</td>\n",
       "      <td>NaN</td>\n",
       "      <td>0.0</td>\n",
       "      <td>NaN</td>\n",
       "      <td>NaN</td>\n",
       "      <td>NaN</td>\n",
       "      <td>0.0</td>\n",
       "      <td>NaN</td>\n",
       "      <td>NaN</td>\n",
       "      <td>NaN</td>\n",
       "      <td>2.0</td>\n",
       "      <td>NaN</td>\n",
       "      <td>NaN</td>\n",
       "      <td>NaN</td>\n",
       "      <td>2.0</td>\n",
       "      <td>NaN</td>\n",
       "      <td>NaN</td>\n",
       "    </tr>\n",
       "  </tbody>\n",
       "</table>\n",
       "</div>"
      ],
      "text/plain": [
       "                   name        fname           lname  req_tests_15  \\\n",
       "0  Abdul Razak Alhassan        Abdul  Razak Alhassan           NaN   \n",
       "1    Abdul-Kerim Edilov  Abdul-Kerim          Edilov           NaN   \n",
       "2         Abel Trujillo         Abel        Trujillo           2.0   \n",
       "3           Abu Azaitar          Abu         Azaitar           NaN   \n",
       "4           Adam Hunter         Adam          Hunter           NaN   \n",
       "\n",
       "   req_tests_16  req_tests_17  req_tests_18  scaled_req_tests_15  \\\n",
       "0           NaN           2.0           0.0                  NaN   \n",
       "1           0.0           2.0           NaN                  NaN   \n",
       "2           4.0           1.0           NaN             5.934783   \n",
       "3           NaN           NaN           0.0                  NaN   \n",
       "4           0.0           NaN           NaN                  NaN   \n",
       "\n",
       "   scaled_req_tests_16  scaled_req_tests_17  scaled_req_tests_18  \\\n",
       "0                  NaN                  2.0             2.506173   \n",
       "1                  0.0                  2.0                  NaN   \n",
       "2                  4.0                  1.0                  NaN   \n",
       "3                  NaN                  NaN             0.253086   \n",
       "4                  0.0                  NaN                  NaN   \n",
       "\n",
       "   scaled_tests_15  scaled_tests_16  scaled_tests_17  scaled_tests_18  \\\n",
       "0              NaN              NaN              4.0         4.506173   \n",
       "1              NaN              2.0              4.0              NaN   \n",
       "2         7.934783              6.0              3.0              NaN   \n",
       "3              NaN              NaN              NaN         2.253086   \n",
       "4              NaN              2.0              NaN              NaN   \n",
       "\n",
       "   tests_15  tests_16  tests_17  tests_18  \n",
       "0       NaN       NaN       4.0       2.0  \n",
       "1       NaN       2.0       4.0       NaN  \n",
       "2       4.0       6.0       3.0       NaN  \n",
       "3       NaN       NaN       NaN       1.0  \n",
       "4       NaN       2.0       NaN       NaN  "
      ]
     },
     "execution_count": 55,
     "metadata": {},
     "output_type": "execute_result"
    }
   ],
   "source": [
    "# testing flattened df (remove multi-index)\n",
    "\n",
    "col_names = [group + '_' + str(col)[-2:] if col else group for group, col in mma_spread.columns.values]\n",
    "mma_spread2 = mma_spread\n",
    "mma_spread2.columns = col_names\n",
    "\n",
    "mma_spread2.head()"
   ]
  },
  {
   "cell_type": "code",
   "execution_count": 16,
   "metadata": {
    "collapsed": false
   },
   "outputs": [
    {
     "name": "stdout",
     "output_type": "stream",
     "text": [
      "name\n",
      "Holly Holm            35\n",
      "Yoel Romero           35\n",
      "Rafael Dos Anjos      34\n",
      "Cristiane Justino     33\n",
      "Vitor Belfort         33\n",
      "Daniel Cormier        33\n",
      "Eddie Alvarez         32\n",
      "Dominick Cruz         29\n",
      "Stipe Miocic          29\n",
      "Edson Barboza         29\n",
      "Fabricio Werdum       28\n",
      "Anderson Silva        28\n",
      "Conor McGregor        28\n",
      "Robbie Lawler         28\n",
      "Frank Edgar           27\n",
      "Tyron Woodley         27\n",
      "TJ Dillashaw          27\n",
      "Tecia Torres          27\n",
      "Stephen Thompson      27\n",
      "Dustin Poirier        26\n",
      "Amanda Nunes          26\n",
      "Jose Aldo             26\n",
      "Chris Weidman         25\n",
      "Ovince Saint Preux    25\n",
      "Demetrious Johnson    25\n",
      "Name: tests, dtype: int64\n",
      "name\n",
      "Ariel Beck                 1\n",
      "James Te Huna              1\n",
      "Song Yadong                1\n",
      "Milana Dudieva             1\n",
      "Renato Moicano             1\n",
      "Mark Anthony De La Rosa    1\n",
      "Michal Oleksiejczuk        1\n",
      "Shawn Jordan               1\n",
      "Michael Wilkinson          1\n",
      "Dan Castillo               1\n",
      "Name: tests, dtype: int64\n"
     ]
    }
   ],
   "source": [
    "fighter_totals = mma['tests'].groupby([mma.name]).sum().sort_values(ascending=False)\n",
    "\n",
    "print(fighter_totals.head(25))\n",
    "print(fighter_totals.tail(10))"
   ]
  },
  {
   "cell_type": "code",
   "execution_count": 17,
   "metadata": {
    "collapsed": false
   },
   "outputs": [
    {
     "data": {
      "text/html": [
       "<div>\n",
       "<style>\n",
       "    .dataframe thead tr:only-child th {\n",
       "        text-align: right;\n",
       "    }\n",
       "\n",
       "    .dataframe thead th {\n",
       "        text-align: left;\n",
       "    }\n",
       "\n",
       "    .dataframe tbody tr th {\n",
       "        vertical-align: top;\n",
       "    }\n",
       "</style>\n",
       "<table border=\"1\" class=\"dataframe\">\n",
       "  <thead>\n",
       "    <tr>\n",
       "      <th></th>\n",
       "      <th colspan=\"3\" halign=\"left\">tests</th>\n",
       "      <th colspan=\"3\" halign=\"left\">scaled_tests</th>\n",
       "      <th colspan=\"3\" halign=\"left\">req_tests</th>\n",
       "      <th colspan=\"3\" halign=\"left\">scaled_req_tests</th>\n",
       "    </tr>\n",
       "    <tr>\n",
       "      <th></th>\n",
       "      <th>mean</th>\n",
       "      <th>sum</th>\n",
       "      <th>len</th>\n",
       "      <th>mean</th>\n",
       "      <th>sum</th>\n",
       "      <th>len</th>\n",
       "      <th>mean</th>\n",
       "      <th>sum</th>\n",
       "      <th>len</th>\n",
       "      <th>mean</th>\n",
       "      <th>sum</th>\n",
       "      <th>len</th>\n",
       "    </tr>\n",
       "    <tr>\n",
       "      <th>year</th>\n",
       "      <th></th>\n",
       "      <th></th>\n",
       "      <th></th>\n",
       "      <th></th>\n",
       "      <th></th>\n",
       "      <th></th>\n",
       "      <th></th>\n",
       "      <th></th>\n",
       "      <th></th>\n",
       "      <th></th>\n",
       "      <th></th>\n",
       "      <th></th>\n",
       "    </tr>\n",
       "  </thead>\n",
       "  <tbody>\n",
       "    <tr>\n",
       "      <th>2015</th>\n",
       "      <td>2.262821</td>\n",
       "      <td>353</td>\n",
       "      <td>156</td>\n",
       "      <td>4.488747</td>\n",
       "      <td>700.244565</td>\n",
       "      <td>156.0</td>\n",
       "      <td>0.730769</td>\n",
       "      <td>114</td>\n",
       "      <td>156</td>\n",
       "      <td>2.496377</td>\n",
       "      <td>389.434783</td>\n",
       "      <td>156.0</td>\n",
       "    </tr>\n",
       "    <tr>\n",
       "      <th>2016</th>\n",
       "      <td>3.907850</td>\n",
       "      <td>2290</td>\n",
       "      <td>586</td>\n",
       "      <td>3.907850</td>\n",
       "      <td>2290.000000</td>\n",
       "      <td>586.0</td>\n",
       "      <td>2.076792</td>\n",
       "      <td>1217</td>\n",
       "      <td>586</td>\n",
       "      <td>2.076792</td>\n",
       "      <td>1217.000000</td>\n",
       "      <td>586.0</td>\n",
       "    </tr>\n",
       "    <tr>\n",
       "      <th>2017</th>\n",
       "      <td>4.524880</td>\n",
       "      <td>2819</td>\n",
       "      <td>623</td>\n",
       "      <td>4.524880</td>\n",
       "      <td>2819.000000</td>\n",
       "      <td>623.0</td>\n",
       "      <td>2.653291</td>\n",
       "      <td>1653</td>\n",
       "      <td>623</td>\n",
       "      <td>2.653291</td>\n",
       "      <td>1653.000000</td>\n",
       "      <td>623.0</td>\n",
       "    </tr>\n",
       "    <tr>\n",
       "      <th>2018</th>\n",
       "      <td>2.171171</td>\n",
       "      <td>1205</td>\n",
       "      <td>555</td>\n",
       "      <td>4.891836</td>\n",
       "      <td>2714.969136</td>\n",
       "      <td>555.0</td>\n",
       "      <td>0.491892</td>\n",
       "      <td>273</td>\n",
       "      <td>555</td>\n",
       "      <td>2.891836</td>\n",
       "      <td>1604.969136</td>\n",
       "      <td>555.0</td>\n",
       "    </tr>\n",
       "  </tbody>\n",
       "</table>\n",
       "</div>"
      ],
      "text/plain": [
       "         tests            scaled_tests                     req_tests        \\\n",
       "          mean   sum  len         mean          sum    len      mean   sum   \n",
       "year                                                                         \n",
       "2015  2.262821   353  156     4.488747   700.244565  156.0  0.730769   114   \n",
       "2016  3.907850  2290  586     3.907850  2290.000000  586.0  2.076792  1217   \n",
       "2017  4.524880  2819  623     4.524880  2819.000000  623.0  2.653291  1653   \n",
       "2018  2.171171  1205  555     4.891836  2714.969136  555.0  0.491892   273   \n",
       "\n",
       "          scaled_req_tests                      \n",
       "      len             mean          sum    len  \n",
       "year                                            \n",
       "2015  156         2.496377   389.434783  156.0  \n",
       "2016  586         2.076792  1217.000000  586.0  \n",
       "2017  623         2.653291  1653.000000  623.0  \n",
       "2018  555         2.891836  1604.969136  555.0  "
      ]
     },
     "execution_count": 17,
     "metadata": {},
     "output_type": "execute_result"
    }
   ],
   "source": [
    "grouped_avg = mma[['tests', 'scaled_tests', 'req_tests', 'scaled_req_tests']].groupby(mma.year)\\\n",
    "    .agg([np.mean, np.sum, len])\n",
    "grouped_avg"
   ]
  },
  {
   "cell_type": "code",
   "execution_count": 18,
   "metadata": {
    "collapsed": false
   },
   "outputs": [
    {
     "data": {
      "image/png": "[encoded data removed]",
      "text/plain": [
       "<matplotlib.figure.Figure at 0x1c688a80a20>"
      ]
     },
     "metadata": {},
     "output_type": "display_data"
    }
   ],
   "source": [
    "scaled_means = grouped_avg['scaled_tests']['mean'].values\n",
    "scaled_req_means = grouped_avg['scaled_req_tests']['mean'].values\n",
    "\n",
    "fig, ax = plt.subplots(figsize=(10,8))\n",
    "ax.plot(years, scaled_means, color='red', ls='--', lw=1.5, label='Mean Tests (scaled)')\n",
    "ax.plot(years, scaled_req_means, color='#ad4747', label='Mean Required Tests (scaled)')\n",
    "ax.fill_between(years, scaled_means, scaled_req_means, alpha=0.1, color='red')\n",
    "ax.fill_between(years, scaled_req_means, 0, color='#ad4747')\n",
    "plt.xlim(start_date.year, end_date.year)\n",
    "plt.xticks(years)\n",
    "plt.xlabel('Year')\n",
    "plt.ylim(0, 5)\n",
    "plt.ylabel('Avg. Tests')\n",
    "plt.title('Yearly Testing')\n",
    "plt.legend(loc='upper right', bbox_to_anchor=(.94, 1.07))\n",
    "plt.show()"
   ]
  },
  {
   "cell_type": "code",
   "execution_count": 19,
   "metadata": {
    "collapsed": false
   },
   "outputs": [
    {
     "data": {
      "image/png": "[encoded data removed]",
      "text/plain": [
       "<matplotlib.figure.Figure at 0x1c68bd4a668>"
      ]
     },
     "metadata": {},
     "output_type": "display_data"
    }
   ],
   "source": [
    "g = mma.hist('tests', by='year', figsize=(12,8), sharex=True, bins=range(16))\n",
    "for row in g:\n",
    "    for sub in row:\n",
    "        sub.axvline(3, ls='--', lw=3, color='white')\n",
    "plt.xticks(range(1, 17, 2))\n",
    "plt.xlim(1, 16)\n",
    "plt.show()"
   ]
  },
  {
   "cell_type": "code",
   "execution_count": 20,
   "metadata": {
    "collapsed": false
   },
   "outputs": [
    {
     "data": {
      "image/png": "[encoded data removed]",
      "text/plain": [
       "<matplotlib.figure.Figure at 0x1c68f3f8f98>"
      ]
     },
     "metadata": {},
     "output_type": "display_data"
    }
   ],
   "source": [
    "g = sns.FacetGrid(mma, row='year', size=3, aspect=3, sharex=True, sharey=False)\n",
    "g = g.map(plt.hist, 'tests', bins=range(21))\n",
    "plt.xlim(0, 20)\n",
    "plt.xticks(range(21))\n",
    "plt.xlabel('# of Tests (unscaled)')\n",
    "for ax in g.axes:\n",
    "    ax[0].axvline(3, ls='--', color='white')\n",
    "plt.show()"
   ]
  },
  {
   "cell_type": "code",
   "execution_count": 21,
   "metadata": {
    "collapsed": false
   },
   "outputs": [
    {
     "data": {
      "image/png": "[encoded data removed]",
      "text/plain": [
       "<matplotlib.figure.Figure at 0x1c68bd3de80>"
      ]
     },
     "metadata": {},
     "output_type": "display_data"
    }
   ],
   "source": [
    "mma['scaled_tests'].plot.hist(figsize=(10,8), bins=20)\n",
    "plt.xlim(1, 20)\n",
    "plt.xticks(range(1,21))\n",
    "plt.show()"
   ]
  },
  {
   "cell_type": "code",
   "execution_count": 22,
   "metadata": {
    "collapsed": false
   },
   "outputs": [
    {
     "name": "stdout",
     "output_type": "stream",
     "text": [
      "\n",
      "5\n",
      "year\n",
      "2015    1.983696\n",
      "2016    1.000000\n",
      "2017    1.000000\n",
      "2018    2.253086\n",
      "Name: scaled_tests, dtype: float64\n",
      "\n",
      "25\n",
      "year\n",
      "2015    1.983696\n",
      "2016    2.000000\n",
      "2017    2.000000\n",
      "2018    2.253086\n",
      "Name: scaled_tests, dtype: float64\n",
      "\n",
      "50\n",
      "year\n",
      "2015    3.967391\n",
      "2016    3.000000\n",
      "2017    3.000000\n",
      "2018    4.506173\n",
      "Name: scaled_tests, dtype: float64\n",
      "\n",
      "75\n",
      "year\n",
      "2015    5.951087\n",
      "2016    5.000000\n",
      "2017    6.000000\n",
      "2018    6.759259\n",
      "Name: scaled_tests, dtype: float64\n",
      "\n",
      "99\n",
      "year\n",
      "2015    15.869565\n",
      "2016    12.000000\n",
      "2017    13.000000\n",
      "2018    12.301852\n",
      "Name: scaled_tests, dtype: float64\n"
     ]
    }
   ],
   "source": [
    "# testing - find various percentiles for each year\n",
    "percentiles = [5, 25, 50, 75, 99]\n",
    "for p in percentiles:\n",
    "    print('\\n' + str(p))\n",
    "    print(mma['scaled_tests'].groupby(mma.year).agg(lambda x: np.percentile(x, q=p)))"
   ]
  },
  {
   "cell_type": "code",
   "execution_count": 23,
   "metadata": {
    "collapsed": false
   },
   "outputs": [
    {
     "name": "stdout",
     "output_type": "stream",
     "text": [
      "<=1 tests: 0.22\n",
      "<=1 required tests: 0.66\n",
      "\n",
      "<=2 tests: 0.47\n",
      "<=2 required tests: 0.77\n",
      "\n",
      "<=3 tests: 0.66\n",
      "<=3 required tests: 0.83\n",
      "\n",
      "<=4 tests: 0.77\n",
      "<=4 required tests: 0.87\n",
      "\n",
      "<=5 tests: 0.83\n",
      "<=5 required tests: 0.9\n",
      "\n",
      "<=6 tests: 0.87\n",
      "<=6 required tests: 0.93\n",
      "\n",
      "<=7 tests: 0.9\n",
      "<=7 required tests: 0.95\n",
      "\n",
      "<=8 tests: 0.93\n",
      "<=8 required tests: 0.97\n",
      "\n",
      "<=9 tests: 0.95\n",
      "<=9 required tests: 0.98\n",
      "\n"
     ]
    }
   ],
   "source": [
    "rows = mma.shape[0]\n",
    "for i in range(1,10):\n",
    "    print('<={} tests: {}'.format(i, round(mma.loc[mma.tests<=i, :].shape[0]/rows, 2)))\n",
    "    print('<={} required tests: {}\\n'.format(i, round(mma.loc[mma.req_tests<=i, :]\\\n",
    "                                                      .shape[0]/rows, 2)))"
   ]
  },
  {
   "cell_type": "markdown",
   "metadata": {},
   "source": [
    "Idea: Scrape sherdog/wikipedia/fightmatrix/fightmetric/ufci api to find # of fights in UFC each year. This should give a decent approximation of roster size (there will still be some misclassifications with fighters being injured or taking a long time between fights for whatever reason). We want to be able to distinguish between NaN and zero - in other words, was a fighter not in the UFC that year, or were they in the UFC but weren't tested?\n",
    "\n",
    "In addition, this will give us another factor to analyze in relation to testing #s. We might guess\n",
    "that USADA is more likely to test those who are scheduled to fight. We can also look at win/loss\n",
    "records to see if that plays a role (better fighters tested more?). We could also scrape rankings to\n",
    "check for a similar effect there. \n",
    "\n",
    "Other ideas:\n",
    "-  see if test dates are available somewhere\n",
    "    -  spread out vs close together?\n",
    "    -  increase/decrease after a loss?\n",
    "    -  evenly spaced or unpredictable/variable width?\n",
    "-  twitter/instagram followers - are more popular fighters targeted?\n",
    "    -  not sure if historical follower counts available\n",
    "-  see if test failures are available\n",
    "-  add nationality (wikipedia?)\n",
    "-  add fight camp\n",
    "-  add weight class\n",
    "-  add previous failures (true/false)\n",
    "-  add \"eye test\" (i.e. call out a few obvious examples, leave rest False)\n",
    "-  add number of title fights"
   ]
  },
  {
   "cell_type": "code",
   "execution_count": 25,
   "metadata": {
    "collapsed": false
   },
   "outputs": [
    {
     "data": {
      "text/html": [
       "<div>\n",
       "<style>\n",
       "    .dataframe thead tr:only-child th {\n",
       "        text-align: right;\n",
       "    }\n",
       "\n",
       "    .dataframe thead th {\n",
       "        text-align: left;\n",
       "    }\n",
       "\n",
       "    .dataframe tbody tr th {\n",
       "        vertical-align: top;\n",
       "    }\n",
       "</style>\n",
       "<table border=\"1\" class=\"dataframe\">\n",
       "  <thead>\n",
       "    <tr>\n",
       "      <th></th>\n",
       "      <th>name</th>\n",
       "      <th>fname</th>\n",
       "      <th>lname</th>\n",
       "      <th colspan=\"4\" halign=\"left\">req_tests</th>\n",
       "      <th colspan=\"4\" halign=\"left\">scaled_req_tests</th>\n",
       "      <th colspan=\"4\" halign=\"left\">scaled_tests</th>\n",
       "      <th colspan=\"4\" halign=\"left\">tests</th>\n",
       "    </tr>\n",
       "    <tr>\n",
       "      <th>year</th>\n",
       "      <th></th>\n",
       "      <th></th>\n",
       "      <th></th>\n",
       "      <th>2015</th>\n",
       "      <th>2016</th>\n",
       "      <th>2017</th>\n",
       "      <th>2018</th>\n",
       "      <th>2015</th>\n",
       "      <th>2016</th>\n",
       "      <th>2017</th>\n",
       "      <th>2018</th>\n",
       "      <th>2015</th>\n",
       "      <th>2016</th>\n",
       "      <th>2017</th>\n",
       "      <th>2018</th>\n",
       "      <th>2015</th>\n",
       "      <th>2016</th>\n",
       "      <th>2017</th>\n",
       "      <th>2018</th>\n",
       "    </tr>\n",
       "  </thead>\n",
       "  <tbody>\n",
       "  </tbody>\n",
       "</table>\n",
       "</div>"
      ],
      "text/plain": [
       "Empty DataFrame\n",
       "Columns: [(name, ), (fname, ), (lname, ), (req_tests, 2015), (req_tests, 2016), (req_tests, 2017), (req_tests, 2018), (scaled_req_tests, 2015), (scaled_req_tests, 2016), (scaled_req_tests, 2017), (scaled_req_tests, 2018), (scaled_tests, 2015), (scaled_tests, 2016), (scaled_tests, 2017), (scaled_tests, 2018), (tests, 2015), (tests, 2016), (tests, 2017), (tests, 2018)]\n",
       "Index: []"
      ]
     },
     "execution_count": 25,
     "metadata": {},
     "output_type": "execute_result"
    }
   ],
   "source": [
    "mma_spread.loc[mma_spread.lname == 'Araujo']"
   ]
  },
  {
   "cell_type": "markdown",
   "metadata": {},
   "source": [
    "## Comparison w/ other sports"
   ]
  },
  {
   "cell_type": "code",
   "execution_count": 26,
   "metadata": {
    "collapsed": false
   },
   "outputs": [
    {
     "name": "stdout",
     "output_type": "stream",
     "text": [
      "                          mean   sum  len\n",
      "sport                                    \n",
      "Professional Boxing  11.134328   746   67\n",
      "Speedskating          2.888372   621  215\n",
      "Tennis                2.768293   227   82\n",
      "Swimming              2.653226  1974  744\n",
      "Biathlon              2.596154   135   52\n",
      "                        mean  sum  len\n",
      "sport                                 \n",
      "Field Hockey        1.045045  116  111\n",
      "Sailing             1.035088   59   57\n",
      "Water Skiing        1.023810   43   42\n",
      "Paralympic Fencing  1.000000    2    2\n",
      "Paralympic Boccia   1.000000    9    9\n"
     ]
    }
   ],
   "source": [
    "sports_means = sports['tests'].groupby(sports.sport).agg([np.mean, np.sum, len])\\\n",
    "    .sort_values('mean', ascending=False)\n",
    "    \n",
    "print(sports_means.head())\n",
    "print(sports_means.tail())"
   ]
  },
  {
   "cell_type": "markdown",
   "metadata": {
    "collapsed": true
   },
   "source": [
    "## Scrape Fightmetric"
   ]
  },
  {
   "cell_type": "code",
   "execution_count": 121,
   "metadata": {
    "collapsed": true
   },
   "outputs": [],
   "source": [
    "def scrape_fightmetric(pages=26):\n",
    "    '''Scrape Fightmetric for all UFC fighter wins and losses.'''\n",
    "    letters = 'abcdefghijklmnopqrstuvwxyz'\n",
    "    url = r'http://www.fightmetric.com/statistics/fighters?char='\n",
    "    urls = [url + letter for letter in letters]\n",
    "    content = []\n",
    "    if pages is not None:\n",
    "        for i in range(pages):\n",
    "            temp = requests.get(urls[i])\n",
    "            if temp.status_code == 200:\n",
    "                print(f'Scraping {urls[i]}...')\n",
    "                content.append(temp.content)\n",
    "            else:\n",
    "                print(f'Failed to scrape {urls[i]}\\nstatus: {temp.status_code}')\n",
    "    return content"
   ]
  },
  {
   "cell_type": "code",
   "execution_count": 105,
   "metadata": {
    "collapsed": false
   },
   "outputs": [
    {
     "name": "stdout",
     "output_type": "stream",
     "text": [
      "Scraping http://www.fightmetric.com/statistics/fighters?char=a...\n",
      "Scraping http://www.fightmetric.com/statistics/fighters?char=b...\n"
     ]
    }
   ],
   "source": [
    "content = scrape_fightmetric(2)"
   ]
  },
  {
   "cell_type": "code",
   "execution_count": null,
   "metadata": {
    "collapsed": true
   },
   "outputs": [],
   "source": [
    "strainer = SoupStrainer('a', {'class': 'b-link b-link_style_black'})\n",
    "letter_soup = [bs(page, 'lxml', parse_only=strainer) for page in content]"
   ]
  },
  {
   "cell_type": "code",
   "execution_count": 153,
   "metadata": {
    "collapsed": false
   },
   "outputs": [
    {
     "name": "stdout",
     "output_type": "stream",
     "text": [
      "100 loops, best of 3: 942 µs per loop\n"
     ]
    }
   ],
   "source": [
    "%%timeit -n 100\n",
    "bs_links = [letter.select('a') for letter in letter_soup]"
   ]
  },
  {
   "cell_type": "code",
   "execution_count": 157,
   "metadata": {
    "collapsed": false
   },
   "outputs": [
    {
     "name": "stdout",
     "output_type": "stream",
     "text": [
      "100 loops, best of 3: 405 µs per loop\n"
     ]
    }
   ],
   "source": [
    "%%timeit -n 100\n",
    "bs_links2 = [link['href'] for page in letter_soup for link in page if type(link) != Doctype]\n",
    "#links = [link['href'] for link in bs_links]\n",
    "#print(len(links))\n",
    "final_links = set(links)"
   ]
  },
  {
   "cell_type": "code",
   "execution_count": 183,
   "metadata": {
    "collapsed": false
   },
   "outputs": [
    {
     "ename": "TypeError",
     "evalue": "string indices must be integers",
     "output_type": "error",
     "traceback": [
      "\u001b[0;31m---------------------------------------------------------------------------\u001b[0m",
      "\u001b[0;31mTypeError\u001b[0m                                 Traceback (most recent call last)",
      "\u001b[0;32m<ipython-input-183-306c100cfce1>\u001b[0m in \u001b[0;36m<module>\u001b[0;34m()\u001b[0m\n\u001b[0;32m----> 1\u001b[0;31m \u001b[0mfinal\u001b[0m \u001b[1;33m=\u001b[0m \u001b[0mset\u001b[0m\u001b[1;33m(\u001b[0m\u001b[0mi\u001b[0m\u001b[1;33m[\u001b[0m\u001b[1;34m'href'\u001b[0m\u001b[1;33m]\u001b[0m \u001b[1;32mfor\u001b[0m \u001b[0mi\u001b[0m \u001b[1;32min\u001b[0m \u001b[0mlist\u001b[0m\u001b[1;33m(\u001b[0m\u001b[0mchain\u001b[0m\u001b[1;33m(\u001b[0m\u001b[1;33m*\u001b[0m\u001b[0mletter_soup\u001b[0m\u001b[1;33m)\u001b[0m\u001b[1;33m)\u001b[0m\u001b[1;33m)\u001b[0m\u001b[1;33m\u001b[0m\u001b[0m\n\u001b[0m",
      "\u001b[0;32m<ipython-input-183-306c100cfce1>\u001b[0m in \u001b[0;36m<genexpr>\u001b[0;34m(.0)\u001b[0m\n\u001b[0;32m----> 1\u001b[0;31m \u001b[0mfinal\u001b[0m \u001b[1;33m=\u001b[0m \u001b[0mset\u001b[0m\u001b[1;33m(\u001b[0m\u001b[0mi\u001b[0m\u001b[1;33m[\u001b[0m\u001b[1;34m'href'\u001b[0m\u001b[1;33m]\u001b[0m \u001b[1;32mfor\u001b[0m \u001b[0mi\u001b[0m \u001b[1;32min\u001b[0m \u001b[0mlist\u001b[0m\u001b[1;33m(\u001b[0m\u001b[0mchain\u001b[0m\u001b[1;33m(\u001b[0m\u001b[1;33m*\u001b[0m\u001b[0mletter_soup\u001b[0m\u001b[1;33m)\u001b[0m\u001b[1;33m)\u001b[0m\u001b[1;33m)\u001b[0m\u001b[1;33m\u001b[0m\u001b[0m\n\u001b[0m",
      "\u001b[0;31mTypeError\u001b[0m: string indices must be integers"
     ]
    }
   ],
   "source": [
    "final = set(i['href'] for i in list(chain(*letter_soup))[1:])"
   ]
  },
  {
   "cell_type": "code",
   "execution_count": 187,
   "metadata": {
    "collapsed": false
   },
   "outputs": [
    {
     "data": {
      "text/plain": [
       "'http://www.fightmetric.com/fighter-details/93fe7332d16c6ad9'"
      ]
     },
     "execution_count": 187,
     "metadata": {},
     "output_type": "execute_result"
    }
   ],
   "source": [
    "#%%timeit -n 100\n",
    "list(chain(*letter_soup))[1]['href']"
   ]
  },
  {
   "cell_type": "code",
   "execution_count": 180,
   "metadata": {
    "collapsed": false
   },
   "outputs": [
    {
     "name": "stdout",
     "output_type": "stream",
     "text": [
      "100 loops, best of 3: 19.7 µs per loop\n"
     ]
    }
   ],
   "source": [
    "%%timeit -n 100\n",
    "[link for page in letter_soup for link in page]"
   ]
  },
  {
   "cell_type": "code",
   "execution_count": null,
   "metadata": {
    "collapsed": true
   },
   "outputs": [],
   "source": []
  }
 ],
 "metadata": {
  "kernelspec": {
   "display_name": "Python 3",
   "language": "python",
   "name": "python3"
  },
  "language_info": {
   "codemirror_mode": {
    "name": "ipython",
    "version": 3
   },
   "file_extension": ".py",
   "mimetype": "text/x-python",
   "name": "python",
   "nbconvert_exporter": "python",
   "pygments_lexer": "ipython3",
   "version": "3.6.0"
  }
 },
 "nbformat": 4,
 "nbformat_minor": 2
}
